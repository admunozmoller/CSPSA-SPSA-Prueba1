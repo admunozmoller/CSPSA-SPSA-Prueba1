{
 "cells": [
  {
   "cell_type": "code",
   "execution_count": 2,
   "metadata": {},
   "outputs": [],
   "source": [
    "import numpy as np\n",
    "import matplotlib.pyplot as plt\n",
    "%matplotlib inline"
   ]
  },
  {
   "cell_type": "code",
   "execution_count": 4,
   "metadata": {},
   "outputs": [],
   "source": [
    "def CSPSA(psi_est, nu_ite, fun_teor, fun,\n",
    "          s=1, t=1/6, a=3, A=1, b = 0.1 ):\n",
    "    \"\"\"\n",
    "    CSPSA\n",
    "    IN\n",
    "        psi_est: dim x n_par matrix. dim is de dimension of each vector, and n_par\n",
    "                the number of guesses in parallel.\n",
    "        nu_ite: int. Number of iterations of CSPSA.\n",
    "        fun_teor: function. It is the known function, for example, the theoretical\n",
    "                 fidelity between the unknown state of the system and the guess.\n",
    "        fun: function. CSPSA uses this function for the optimization.\n",
    "        s, t, a, A, b: parametros CSPSA\n",
    "    OUT\n",
    "        valor_optimo: real. Optimal value of fun finded by CSPSA.\n",
    "    \"\"\"\n",
    "\n",
    "    n_par = int(psi_est.size/psi_est.shape[0])\n",
    "    valor_optimo = np.zeros((n_par, nu_ite))\n",
    "    valor_optimo[:,0] = fun_teor(psi_est)\n",
    "\n",
    "    for k in range(0,nu_ite-1):\n",
    "        if k % 5 == 0:\n",
    "            print(k)\n",
    "        else:\n",
    "            pass\n",
    "        valor_optimo[:,k+1], psi_est = (itCSPSA(psi_est/np.linalg.norm(psi_est, axis = 0),\n",
    "                                       k, s, t, a, A, b, fun, fun_teor ))\n",
    "\n",
    "\n",
    "    return valor_optimo"
   ]
  },
  {
   "cell_type": "code",
   "execution_count": 5,
   "metadata": {},
   "outputs": [],
   "source": [
    "def itCSPSA(z_k,  k, s, t, a, A, b, fun, fun_teor):\n",
    "    \"\"\"iteracion de CSPSA\n",
    "    IN\n",
    "        z_k: dim x n_rep. Cada columna es un estimador de dimension dim.\n",
    "        k: iteracion\n",
    "        s, t, a, A, b: parametros CSPSA\n",
    "        fun: funcion a optimizar\n",
    "    OUT\n",
    "        z_k: dim x n_rep. Estimador actualizado\n",
    "        z_value: real. valor de fun en el estimador z_k\n",
    "    \"\"\"\n",
    "    dim = z_k.shape[0]\n",
    "    rep = int(z_k.size/z_k.shape[0])\n",
    "    alpha = a/(k+1+A)**s\n",
    "    beta = b/(k+1)**t\n",
    "    delta = (1j)**(np.random.randint(1,5,(dim, rep))).reshape(2,rep)\n",
    "    z_k_mas = z_k + beta*delta\n",
    "    z_k_menos = z_k - beta*delta\n",
    "    fun_k_mas = fun(z_k_mas)\n",
    "    fun_k_menos = fun(z_k_menos)\n",
    "    grad = np.divide(fun_k_mas - fun_k_menos, 2*beta*delta.conj())\n",
    "    z_k = z_k - alpha*grad\n",
    "    z_value = fun_teor(z_k)\n",
    "    return z_value, z_k"
   ]
  },
  {
   "cell_type": "code",
   "execution_count": 6,
   "metadata": {},
   "outputs": [],
   "source": [
    "def estado(dim, n_par):\n",
    "    psi = (np.random.normal(loc=0.0, scale=1.0,\n",
    "           size=(dim, n_par))\n",
    "           + np.random.normal(loc=0.0, scale=1.0,\n",
    "           size=(dim, n_par))*1j)\n",
    "    psi = psi/np.linalg.norm(psi, axis=0)\n",
    "    return psi"
   ]
  },
  {
   "cell_type": "code",
   "execution_count": 7,
   "metadata": {},
   "outputs": [],
   "source": [
    "def H_paul (A,B,C):\n",
    "    pauli_x = np.array((((0, 1), (1, 0))))\n",
    "    pauli_y = np.array((((0, -1j), (1j, 0))))\n",
    "    pauli_z = np.array((((1, 0), (0, -1))))\n",
    "    H_paul = A*pauli_x + B*pauli_y + C*pauli_z\n",
    "    return H_paul"
   ]
  },
  {
   "cell_type": "code",
   "execution_count": 8,
   "metadata": {},
   "outputs": [],
   "source": [
    "def exp_H (psi_est, H):\n",
    "    psi = np.matrix(psi_est)\n",
    "    psi = psi/np.linalg.norm(psi, axis=0)\n",
    "    psi_dagger = psi.getH()\n",
    "    H = np.matrix(H)\n",
    "    exp_H = psi_dagger*H*psi\n",
    "    return exp_H"
   ]
  },
  {
   "cell_type": "code",
   "execution_count": 9,
   "metadata": {},
   "outputs": [],
   "source": [
    "d = 2\n",
    "nu_par = 1\n",
    "NU_ITERACIONES = 300\n",
    "\n",
    "A = np.sqrt(0.3)\n",
    "B = np.sqrt(0.2)\n",
    "C = np.sqrt(0.5)\n",
    "#A = 1\n",
    "#B = 3\n",
    "#C = 5"
   ]
  },
  {
   "cell_type": "code",
   "execution_count": 20,
   "metadata": {},
   "outputs": [],
   "source": [
    "psi_est = estado(d,nu_par)\n"
   ]
  },
  {
   "cell_type": "code",
   "execution_count": 21,
   "metadata": {
    "scrolled": true
   },
   "outputs": [],
   "source": [
    "H = H_paul(A,B,C)\n"
   ]
  },
  {
   "cell_type": "code",
   "execution_count": 22,
   "metadata": {},
   "outputs": [],
   "source": [
    "fun = lambda x : exp_H(x, H)\n"
   ]
  },
  {
   "cell_type": "code",
   "execution_count": 23,
   "metadata": {
    "scrolled": true
   },
   "outputs": [
    {
     "name": "stderr",
     "output_type": "stream",
     "text": [
      "/home/dmunoz/anaconda3/lib/python3.6/site-packages/ipykernel_launcher.py:19: ComplexWarning: Casting complex values to real discards the imaginary part\n",
      "/home/dmunoz/anaconda3/lib/python3.6/site-packages/ipykernel_launcher.py:27: ComplexWarning: Casting complex values to real discards the imaginary part\n"
     ]
    },
    {
     "name": "stdout",
     "output_type": "stream",
     "text": [
      "0\n",
      "5\n",
      "10\n",
      "15\n",
      "20\n",
      "25\n",
      "30\n",
      "35\n",
      "40\n",
      "45\n",
      "50\n",
      "55\n",
      "60\n",
      "65\n",
      "70\n",
      "75\n",
      "80\n",
      "85\n",
      "90\n",
      "95\n",
      "100\n",
      "105\n",
      "110\n",
      "115\n",
      "120\n",
      "125\n",
      "130\n",
      "135\n",
      "140\n",
      "145\n",
      "150\n",
      "155\n",
      "160\n",
      "165\n",
      "170\n",
      "175\n",
      "180\n",
      "185\n",
      "190\n",
      "195\n",
      "200\n",
      "205\n",
      "210\n",
      "215\n",
      "220\n",
      "225\n",
      "230\n",
      "235\n",
      "240\n",
      "245\n",
      "250\n",
      "255\n",
      "260\n",
      "265\n",
      "270\n",
      "275\n",
      "280\n",
      "285\n",
      "290\n",
      "295\n"
     ]
    }
   ],
   "source": [
    "Result = CSPSA(psi_est, NU_ITERACIONES, fun, fun)"
   ]
  },
  {
   "cell_type": "code",
   "execution_count": 24,
   "metadata": {},
   "outputs": [
    {
     "name": "stdout",
     "output_type": "stream",
     "text": [
      "[[ 0.84916837  0.8333182   0.83328851 -0.44165518 -0.54466358 -0.47024338\n",
      "  -0.67182832 -0.89778848 -0.90132784 -0.97137295 -0.98018612 -0.98732073\n",
      "  -0.99535378 -0.99962613 -0.99997944 -0.99997101 -0.99994726 -0.99998072\n",
      "  -0.99998621 -0.99998349 -0.99998478 -0.99997581 -0.99998432 -0.99998805\n",
      "  -0.99999359 -0.99999363 -0.99999129 -0.99999378 -0.99999222 -0.99999273\n",
      "  -0.99998896 -0.99998669 -0.99998143 -0.99997826 -0.9999788  -0.99998822\n",
      "  -0.99999373 -0.9999934  -0.99999232 -0.99999608 -0.99999622 -0.99999788\n",
      "  -0.99999581 -0.99999589 -0.99999746 -0.99999569 -0.99999444 -0.99999824\n",
      "  -0.99999625 -0.99999639 -0.99999812 -0.99999591 -0.99999722 -0.9999977\n",
      "  -0.99999843 -0.99999888 -0.99999781 -0.99999854 -0.99999857 -0.99999889\n",
      "  -0.99999907 -0.99999965 -0.99999989 -0.99999916 -0.99999954 -0.99999979\n",
      "  -0.99999988 -0.99999989 -0.99999995 -0.99999987 -0.99999984 -0.99999967\n",
      "  -0.99999967 -0.99999945 -0.99999937 -0.99999937 -0.99999946 -0.99999938\n",
      "  -0.99999887 -0.99999882 -0.9999996  -0.99999979 -0.99999995 -0.99999998\n",
      "  -0.99999999 -0.99999999 -0.99999978 -0.99999992 -0.99999997 -1.\n",
      "  -0.99999998 -0.99999994 -0.99999992 -0.99999993 -0.99999986 -0.99999996\n",
      "  -0.99999997 -0.9999999  -0.99999988 -0.99999988 -0.99999957 -0.99999969\n",
      "  -0.99999977 -0.99999979 -0.99999983 -0.99999989 -0.99999991 -0.99999995\n",
      "  -0.99999997 -0.99999999 -0.99999999 -0.99999991 -0.99999992 -0.99999996\n",
      "  -0.99999971 -0.99999988 -0.99999988 -0.99999964 -0.99999974 -0.99999938\n",
      "  -0.9999994  -0.99999914 -0.99999927 -0.99999934 -0.99999904 -0.99999925\n",
      "  -0.99999929 -0.99999931 -0.99999933 -0.99999905 -0.99999921 -0.99999927\n",
      "  -0.99999943 -0.99999957 -0.99999958 -0.99999959 -0.99999969 -0.99999966\n",
      "  -0.99999962 -0.99999962 -0.9999997  -0.99999981 -0.99999986 -0.99999992\n",
      "  -0.99999995 -0.99999998 -0.99999999 -0.99999996 -0.99999987 -0.99999987\n",
      "  -0.99999993 -0.9999998  -0.99999975 -0.9999997  -0.99999968 -0.99999962\n",
      "  -0.99999954 -0.99999966 -0.99999966 -0.9999995  -0.99999946 -0.99999955\n",
      "  -0.99999955 -0.99999937 -0.99999938 -0.99999955 -0.99999963 -0.99999959\n",
      "  -0.99999969 -0.99999961 -0.99999971 -0.9999997  -0.99999977 -0.99999962\n",
      "  -0.99999961 -0.99999958 -0.99999948 -0.9999996  -0.99999968 -0.99999967\n",
      "  -0.99999973 -0.99999973 -0.9999997  -0.99999966 -0.99999966 -0.99999952\n",
      "  -0.99999947 -0.99999959 -0.99999966 -0.99999966 -0.99999967 -0.99999964\n",
      "  -0.99999951 -0.99999941 -0.99999939 -0.99999926 -0.99999936 -0.99999938\n",
      "  -0.99999947 -0.99999947 -0.99999944 -0.99999936 -0.99999934 -0.99999921\n",
      "  -0.99999932 -0.99999941 -0.99999953 -0.99999951 -0.99999941 -0.99999941\n",
      "  -0.99999942 -0.99999951 -0.9999996  -0.99999961 -0.9999995  -0.99999939\n",
      "  -0.99999948 -0.99999953 -0.99999955 -0.99999955 -0.99999957 -0.99999956\n",
      "  -0.99999947 -0.99999946 -0.99999947 -0.99999953 -0.9999996  -0.9999996\n",
      "  -0.9999995  -0.99999957 -0.99999957 -0.99999963 -0.99999968 -0.9999996\n",
      "  -0.99999965 -0.99999965 -0.99999964 -0.99999965 -0.9999997  -0.99999969\n",
      "  -0.99999969 -0.99999968 -0.99999968 -0.99999959 -0.99999964 -0.99999969\n",
      "  -0.99999967 -0.99999958 -0.99999958 -0.99999959 -0.99999959 -0.99999953\n",
      "  -0.99999958 -0.99999965 -0.99999964 -0.99999964 -0.99999962 -0.99999953\n",
      "  -0.99999953 -0.99999949 -0.9999994  -0.99999939 -0.99999945 -0.99999943\n",
      "  -0.9999994  -0.99999948 -0.99999948 -0.99999948 -0.99999944 -0.99999938\n",
      "  -0.99999947 -0.99999939 -0.99999945 -0.99999937 -0.99999929 -0.99999928\n",
      "  -0.99999938 -0.99999937 -0.99999937 -0.99999936 -0.99999929 -0.9999993\n",
      "  -0.99999922 -0.99999931 -0.99999922 -0.99999912 -0.9999992  -0.99999927\n",
      "  -0.99999934 -0.99999935 -0.99999936 -0.99999937 -0.99999941 -0.99999942\n",
      "  -0.99999942 -0.99999934 -0.99999934 -0.99999935 -0.99999935 -0.99999928]]\n"
     ]
    }
   ],
   "source": [
    "np.savetxt('prueba.txt', Result, delimiter=',')\n",
    "print(Result)"
   ]
  },
  {
   "cell_type": "code",
   "execution_count": 25,
   "metadata": {},
   "outputs": [
    {
     "name": "stdout",
     "output_type": "stream",
     "text": [
      "-1.0\n"
     ]
    }
   ],
   "source": [
    "Ground_teo = -(np.sqrt(A**2 + B**2 + C**2))\n",
    "print(Ground_teo)"
   ]
  },
  {
   "cell_type": "code",
   "execution_count": 26,
   "metadata": {},
   "outputs": [
    {
     "name": "stdout",
     "output_type": "stream",
     "text": [
      "[[1.84916837e+00 1.83331820e+00 1.83328851e+00 5.58344820e-01\n",
      "  4.55336418e-01 5.29756619e-01 3.28171684e-01 1.02211518e-01\n",
      "  9.86721577e-02 2.86270497e-02 1.98138840e-02 1.26792661e-02\n",
      "  4.64621894e-03 3.73865319e-04 2.05570229e-05 2.89868149e-05\n",
      "  5.27389546e-05 1.92829091e-05 1.37880016e-05 1.65072353e-05\n",
      "  1.52209668e-05 2.41932604e-05 1.56794736e-05 1.19456234e-05\n",
      "  6.41321072e-06 6.37358858e-06 8.71398807e-06 6.21597521e-06\n",
      "  7.78381223e-06 7.27346703e-06 1.10433778e-05 1.33128058e-05\n",
      "  1.85663678e-05 2.17438550e-05 2.12030605e-05 1.17777054e-05\n",
      "  6.27088423e-06 6.60384991e-06 7.68056966e-06 3.91928258e-06\n",
      "  3.78152586e-06 2.12143513e-06 4.18991462e-06 4.10629123e-06\n",
      "  2.54321664e-06 4.31228513e-06 5.56190900e-06 1.76401386e-06\n",
      "  3.74887450e-06 3.60534908e-06 1.88071764e-06 4.08805614e-06\n",
      "  2.78002227e-06 2.30106625e-06 1.57087748e-06 1.12287517e-06\n",
      "  2.18820818e-06 1.45732121e-06 1.42537557e-06 1.10656642e-06\n",
      "  9.29794707e-07 3.51774125e-07 1.14255490e-07 8.41324806e-07\n",
      "  4.57060345e-07 2.14861592e-07 1.19613257e-07 1.06940773e-07\n",
      "  4.84998485e-08 1.25923175e-07 1.56145958e-07 3.32528424e-07\n",
      "  3.31078907e-07 5.46602113e-07 6.26629496e-07 6.26967935e-07\n",
      "  5.44617615e-07 6.22274957e-07 1.13470977e-06 1.17817350e-06\n",
      "  3.95362570e-07 2.12522653e-07 4.90045426e-08 1.78093809e-08\n",
      "  1.39253952e-08 1.04781273e-08 2.18432728e-07 8.23885795e-08\n",
      "  3.13292330e-08 3.06186698e-09 1.59235689e-08 5.51834007e-08\n",
      "  8.29860947e-08 7.08468998e-08 1.35756045e-07 4.04373656e-08\n",
      "  2.61220943e-08 9.92260555e-08 1.24671020e-07 1.17815770e-07\n",
      "  4.27607938e-07 3.06890246e-07 2.29065013e-07 2.12461987e-07\n",
      "  1.74645388e-07 1.12190050e-07 9.04279339e-08 5.18491295e-08\n",
      "  3.08651213e-08 9.02742425e-09 1.37262087e-08 9.06434369e-08\n",
      "  8.47004672e-08 3.88901173e-08 2.93468537e-07 1.21932486e-07\n",
      "  1.17870187e-07 3.55277977e-07 2.57564920e-07 6.19433681e-07\n",
      "  6.02032638e-07 8.57648195e-07 7.33945221e-07 6.58233940e-07\n",
      "  9.55505107e-07 7.52289860e-07 7.14770303e-07 6.94289205e-07\n",
      "  6.68875059e-07 9.52026490e-07 7.86306430e-07 7.26060852e-07\n",
      "  5.70286893e-07 4.32230831e-07 4.21670232e-07 4.11917878e-07\n",
      "  3.10468121e-07 3.37984678e-07 3.82395907e-07 3.80930992e-07\n",
      "  3.01203480e-07 1.85932288e-07 1.38834130e-07 7.66449664e-08\n",
      "  5.21634647e-08 2.29336381e-08 1.41189519e-08 4.15597327e-08\n",
      "  1.29519789e-07 1.29589482e-07 7.11460294e-08 1.99787604e-07\n",
      "  2.53045758e-07 2.95420336e-07 3.23253556e-07 3.82258076e-07\n",
      "  4.60281490e-07 3.36072210e-07 3.35611375e-07 5.02483037e-07\n",
      "  5.40322300e-07 4.47616644e-07 4.45238617e-07 6.28339231e-07\n",
      "  6.24136305e-07 4.52633949e-07 3.72558611e-07 4.13882666e-07\n",
      "  3.08868800e-07 3.85483076e-07 2.88117835e-07 3.02192947e-07\n",
      "  2.31518857e-07 3.79500452e-07 3.88624295e-07 4.23691409e-07\n",
      "  5.15659861e-07 3.97007575e-07 3.23764757e-07 3.27100975e-07\n",
      "  2.68619091e-07 2.67194847e-07 2.99367688e-07 3.39722100e-07\n",
      "  3.39778813e-07 4.77318492e-07 5.32604867e-07 4.05518766e-07\n",
      "  3.38708723e-07 3.35810379e-07 3.33064177e-07 3.58795586e-07\n",
      "  4.94238181e-07 5.91557899e-07 6.10766395e-07 7.39170897e-07\n",
      "  6.35686195e-07 6.23351247e-07 5.29507473e-07 5.34096027e-07\n",
      "  5.58505180e-07 6.39556595e-07 6.64119794e-07 7.94931913e-07\n",
      "  6.82424664e-07 5.93870746e-07 4.71648582e-07 4.91925575e-07\n",
      "  5.90348896e-07 5.85581384e-07 5.79543570e-07 4.93841256e-07\n",
      "  3.96601791e-07 3.91238477e-07 4.96581248e-07 6.13888382e-07\n",
      "  5.20976060e-07 4.65142292e-07 4.53051940e-07 4.47666492e-07\n",
      "  4.25353521e-07 4.37293269e-07 5.34565009e-07 5.40763754e-07\n",
      "  5.32546973e-07 4.65574708e-07 4.02781063e-07 3.95292715e-07\n",
      "  4.99794187e-07 4.30975203e-07 4.25814777e-07 3.69598271e-07\n",
      "  3.19194743e-07 4.00199429e-07 3.52083470e-07 3.52533066e-07\n",
      "  3.58051020e-07 3.53369635e-07 3.04166612e-07 3.11086073e-07\n",
      "  3.07571496e-07 3.19034441e-07 3.16448803e-07 4.07575903e-07\n",
      "  3.57650700e-07 3.12660293e-07 3.29014835e-07 4.18016806e-07\n",
      "  4.15765895e-07 4.13606770e-07 4.11535148e-07 4.71176024e-07\n",
      "  4.16681878e-07 3.46543655e-07 3.56922188e-07 3.64720579e-07\n",
      "  3.81896215e-07 4.66728116e-07 4.65318818e-07 5.13526236e-07\n",
      "  5.99362646e-07 6.11594268e-07 5.53063875e-07 5.73869174e-07\n",
      "  5.99376399e-07 5.22810785e-07 5.21718486e-07 5.20665971e-07\n",
      "  5.60557488e-07 6.22323392e-07 5.30630123e-07 6.10695024e-07\n",
      "  5.50012297e-07 6.29050544e-07 7.08937605e-07 7.16222661e-07\n",
      "  6.22505849e-07 6.29613094e-07 6.26262220e-07 6.40695099e-07\n",
      "  7.09697243e-07 7.01977169e-07 7.82554011e-07 6.89323101e-07\n",
      "  7.79447138e-07 8.76925822e-07 8.00562928e-07 7.28432539e-07\n",
      "  6.63292702e-07 6.48746492e-07 6.39793153e-07 6.27158869e-07\n",
      "  5.94737676e-07 5.75737543e-07 5.82130176e-07 6.55736287e-07\n",
      "  6.59808863e-07 6.50892115e-07 6.50982746e-07 7.17571256e-07]]\n"
     ]
    }
   ],
   "source": [
    "error = Result - Ground_teo\n",
    "print(error)"
   ]
  },
  {
   "cell_type": "code",
   "execution_count": 30,
   "metadata": {},
   "outputs": [
    {
     "data": {
      "text/plain": [
       "[<matplotlib.lines.Line2D at 0x7f6464659e10>]"
      ]
     },
     "execution_count": 30,
     "metadata": {},
     "output_type": "execute_result"
    },
    {
     "data": {
      "image/png": "[encoded data removed]",
      "text/plain": [
       "<Figure size 432x288 with 1 Axes>"
      ]
     },
     "metadata": {
      "needs_background": "light"
     },
     "output_type": "display_data"
    }
   ],
   "source": [
    "x = range(0,300)\n",
    "plt.loglog(np.array(error[:]).T)"
   ]
  },
  {
   "cell_type": "code",
   "execution_count": 28,
   "metadata": {},
   "outputs": [
    {
     "data": {
      "text/plain": [
       "matrix([[-1.+0.j]])"
      ]
     },
     "execution_count": 28,
     "metadata": {},
     "output_type": "execute_result"
    }
   ],
   "source": [
    "E = A**2 + B**2 + C**2\n",
    "\n",
    "const1 = np.sqrt(1/2) * np.sqrt((A**2+B**2)/(E-C*(np.sqrt(E))))\n",
    "const2 = (C-np.sqrt(E))/(A+1j*B)\n",
    "\n",
    "psi_teo = const1*np.matrix([[const2], [1]])\n",
    "\n",
    "fun(psi_teo)"
   ]
  },
  {
   "cell_type": "code",
   "execution_count": 19,
   "metadata": {},
   "outputs": [
    {
     "name": "stdout",
     "output_type": "stream",
     "text": [
      "[[ 0.36809417+0.09990709j]\n",
      " [-0.41783922-0.8245821j ]]\n"
     ]
    },
    {
     "data": {
      "text/plain": [
       "matrix([[-0.99424503+0.j]])"
      ]
     },
     "execution_count": 19,
     "metadata": {},
     "output_type": "execute_result"
    }
   ],
   "source": [
    "print(psi_est)\n",
    "fun(psi_est)"
   ]
  },
  {
   "cell_type": "code",
   "execution_count": null,
   "metadata": {},
   "outputs": [],
   "source": []
  },
  {
   "cell_type": "code",
   "execution_count": null,
   "metadata": {},
   "outputs": [],
   "source": []
  },
  {
   "cell_type": "code",
   "execution_count": null,
   "metadata": {},
   "outputs": [],
   "source": []
  },
  {
   "cell_type": "code",
   "execution_count": null,
   "metadata": {},
   "outputs": [],
   "source": []
  },
  {
   "cell_type": "code",
   "execution_count": null,
   "metadata": {},
   "outputs": [],
   "source": []
  }
 ],
 "metadata": {
  "kernelspec": {
   "display_name": "Python 3",
   "language": "python",
   "name": "python3"
  },
  "language_info": {
   "codemirror_mode": {
    "name": "ipython",
    "version": 3
   },
   "file_extension": ".py",
   "mimetype": "text/x-python",
   "name": "python",
   "nbconvert_exporter": "python",
   "pygments_lexer": "ipython3",
   "version": "3.6.10"
  }
 },
 "nbformat": 4,
 "nbformat_minor": 4
}
