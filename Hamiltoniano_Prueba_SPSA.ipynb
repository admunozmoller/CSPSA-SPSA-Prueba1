{
 "cells": [
  {
   "cell_type": "code",
   "execution_count": 52,
   "metadata": {},
   "outputs": [],
   "source": [
    "import numpy as np\n",
    "import matplotlib.pyplot as plt\n",
    "%matplotlib inline"
   ]
  },
  {
   "cell_type": "code",
   "execution_count": 53,
   "metadata": {},
   "outputs": [],
   "source": [
    "def SPSA(psi_est, nu_ite, fun_teor, fun,\n",
    "          s=1, t=1/6, a=3, A=1, b = 0.1 ):\n",
    "    \"\"\"\n",
    "    SPSA\n",
    "    IN\n",
    "        psi_est: dim x n_par matrix. dim is de dimension of each vector, and n_par\n",
    "                the number of guesses in parallel.\n",
    "        nu_ite: int. Number of iterations of SPSA.\n",
    "        fun_teor: function. It is the known function, for example, the theoretical\n",
    "                 fidelity between the unknown state of the system and the guess.\n",
    "        fun: function. SPSA uses this function for the optimization.\n",
    "        s, t, a, A, b: parametros SPSA\n",
    "    OUT\n",
    "        valor_optimo: real. Optimal value of fun finded by SPSA.\n",
    "    \"\"\"\n",
    "\n",
    "    n_par = int(psi_est.size/psi_est.shape[0])\n",
    "    valor_optimo = np.zeros((n_par, nu_ite))\n",
    "    valor_optimo[:,0] = fun_teor(psi_est)\n",
    "\n",
    "    for k in range(0,nu_ite-1):\n",
    "        if k % 5 == 0:\n",
    "            print(k)\n",
    "        else:\n",
    "            pass\n",
    "        valor_optimo[:,k+1], psi_est = (itSPSA(psi_est/np.linalg.norm(psi_est, axis = 0),\n",
    "                                       k, s, t, a, A, b, fun, fun_teor ))\n",
    "\n",
    "\n",
    "    return valor_optimo"
   ]
  },
  {
   "cell_type": "code",
   "execution_count": 54,
   "metadata": {},
   "outputs": [],
   "source": [
    "def itSPSA(z_k,  k, s, t, a, A, b, fun, fun_teor):\n",
    "    \"\"\"iteracion de SPSA\n",
    "    IN\n",
    "        z_k: dim x n_rep. Cada columna es un estimador de dimension dim.\n",
    "        k: iteracion\n",
    "        s, t, a, A, b: parametros SPSA\n",
    "        fun: funcion a optimizar\n",
    "    OUT\n",
    "        z_k: dim x n_rep. Estimador actualizado\n",
    "        z_value: real. valor de fun en el estimador z_k\n",
    "    \"\"\"\n",
    "    dim = z_k.shape[0]\n",
    "    rep = int(z_k.size/z_k.shape[0])\n",
    "    alpha = a/(k+1+A)**s\n",
    "    beta = b/(k+1)**t\n",
    "    \n",
    "    #Cambiamos un delta complejo por uno real (+1,-1)\n",
    "    \n",
    "    delta = (-1)**(np.random.randint(1,5,(dim, rep))).reshape(2,rep)\n",
    "    \n",
    "    #Definimos parte real e imaginaria\n",
    "    \n",
    "    z_k_mas_r = np.real(z_k) + beta*delta\n",
    "    z_k_mas_i = np.imag(z_k) + beta*delta\n",
    "    z_k_menos_r = np.real(z_k) - beta*delta\n",
    "    z_k_menos_i = np.imag(z_k) - beta*delta\n",
    "    \n",
    "    #Nuevo estado, normalizado\n",
    "    \n",
    "    z_k_mas = z_k_mas_r +1j*z_k_mas_i\n",
    "    z_k_menos = z_k_menos_r+1j*z_k_menos_i\n",
    "    \n",
    "    z_k_mas = z_k_mas/np.linalg.norm(z_k_mas, axis=0)\n",
    "    z_k_menos = z_k_menos/np.linalg.norm(z_k_menos, axis=0)\n",
    "    \n",
    "    fun_k_mas = fun(z_k_mas)\n",
    "    fun_k_menos = fun(z_k_menos)\n",
    "    grad = np.divide(fun_k_mas - fun_k_menos, 2*beta*delta.conj())\n",
    "    z_k = z_k - alpha*grad\n",
    "    z_value = fun_teor(z_k)\n",
    "    return z_value, z_k"
   ]
  },
  {
   "cell_type": "code",
   "execution_count": 55,
   "metadata": {},
   "outputs": [],
   "source": [
    "def estado(dim, n_par):\n",
    "    psi = (np.random.normal(loc=0.0, scale=1.0,\n",
    "           size=(dim, n_par))\n",
    "           + np.random.normal(loc=0.0, scale=1.0,\n",
    "           size=(dim, n_par))*1j)\n",
    "    psi = psi/np.linalg.norm(psi, axis=0)\n",
    "    return psi"
   ]
  },
  {
   "cell_type": "code",
   "execution_count": 56,
   "metadata": {},
   "outputs": [],
   "source": [
    "def H_paul (A,B,C):\n",
    "    pauli_x = np.array((((0, 1), (1, 0))))\n",
    "    pauli_y = np.array((((0, -1j), (1j, 0))))\n",
    "    pauli_z = np.array((((1, 0), (0, -1))))\n",
    "    H_paul = A*pauli_x + B*pauli_y + C*pauli_z\n",
    "    return H_paul"
   ]
  },
  {
   "cell_type": "code",
   "execution_count": 57,
   "metadata": {},
   "outputs": [],
   "source": [
    "def exp_H (psi_est, H):\n",
    "    psi = np.matrix(psi_est)\n",
    "    psi = psi/np.linalg.norm(psi, axis=0)\n",
    "    psi_dagger = psi.getH()\n",
    "    H = np.matrix(H)\n",
    "    exp_H = psi_dagger*H*psi\n",
    "    return exp_H"
   ]
  },
  {
   "cell_type": "code",
   "execution_count": 58,
   "metadata": {},
   "outputs": [],
   "source": [
    "d = 2\n",
    "nu_par = 1\n",
    "NU_ITERACIONES = 300\n",
    "\n",
    "A = np.sqrt(0.3)\n",
    "B = np.sqrt(0.2)\n",
    "C = np.sqrt(0.5)\n",
    "#A = 1\n",
    "#B = 3\n",
    "#C = 5"
   ]
  },
  {
   "cell_type": "code",
   "execution_count": 59,
   "metadata": {},
   "outputs": [],
   "source": [
    "psi_est = estado(d,nu_par)\n"
   ]
  },
  {
   "cell_type": "code",
   "execution_count": 60,
   "metadata": {
    "scrolled": true
   },
   "outputs": [],
   "source": [
    "H = H_paul(A,B,C)\n"
   ]
  },
  {
   "cell_type": "code",
   "execution_count": 61,
   "metadata": {},
   "outputs": [],
   "source": [
    "fun = lambda x : exp_H(x, H)\n"
   ]
  },
  {
   "cell_type": "code",
   "execution_count": 62,
   "metadata": {
    "scrolled": true
   },
   "outputs": [
    {
     "name": "stderr",
     "output_type": "stream",
     "text": [
      "/home/dmunoz/anaconda3/lib/python3.6/site-packages/ipykernel_launcher.py:19: ComplexWarning: Casting complex values to real discards the imaginary part\n",
      "/home/dmunoz/anaconda3/lib/python3.6/site-packages/ipykernel_launcher.py:27: ComplexWarning: Casting complex values to real discards the imaginary part\n"
     ]
    },
    {
     "name": "stdout",
     "output_type": "stream",
     "text": [
      "0\n",
      "5\n",
      "10\n",
      "15\n",
      "20\n",
      "25\n",
      "30\n",
      "35\n",
      "40\n",
      "45\n",
      "50\n",
      "55\n",
      "60\n",
      "65\n",
      "70\n",
      "75\n",
      "80\n",
      "85\n",
      "90\n",
      "95\n",
      "100\n",
      "105\n",
      "110\n",
      "115\n",
      "120\n",
      "125\n",
      "130\n",
      "135\n",
      "140\n",
      "145\n",
      "150\n",
      "155\n",
      "160\n",
      "165\n",
      "170\n",
      "175\n",
      "180\n",
      "185\n",
      "190\n",
      "195\n",
      "200\n",
      "205\n",
      "210\n",
      "215\n",
      "220\n",
      "225\n",
      "230\n",
      "235\n",
      "240\n",
      "245\n",
      "250\n",
      "255\n",
      "260\n",
      "265\n",
      "270\n",
      "275\n",
      "280\n",
      "285\n",
      "290\n",
      "295\n"
     ]
    }
   ],
   "source": [
    "Result = SPSA(psi_est, NU_ITERACIONES, fun, fun)"
   ]
  },
  {
   "cell_type": "code",
   "execution_count": 63,
   "metadata": {},
   "outputs": [
    {
     "name": "stdout",
     "output_type": "stream",
     "text": [
      "[[ 0.67922174  0.39651629  0.42521911  0.4373201   0.16505249  0.20145242\n",
      "  -0.26282222 -0.50778762 -0.54695862 -0.55428737 -0.42672166 -0.54896734\n",
      "  -0.48140377 -0.45367635 -0.43944947 -0.43139269 -0.42656163 -0.53415225\n",
      "  -0.51270534 -0.4998174  -0.56550375 -0.54574267 -0.58947799 -0.56923276\n",
      "  -0.55605146 -0.5942966  -0.61789278 -0.63307646 -0.64319136 -0.62098157\n",
      "  -0.63536603 -0.64533978 -0.62681677 -0.63952644 -0.62454733 -0.61347919\n",
      "  -0.60515153 -0.62363482 -0.61489182 -0.60814454 -0.62531781 -0.63818212\n",
      "  -0.64797645 -0.65553937 -0.66145111 -0.66612162 -0.66984607 -0.67284061\n",
      "  -0.66084678 -0.65121087 -0.65792059 -0.66334935 -0.65444971 -0.64714856\n",
      "  -0.64111754 -0.63610478 -0.64538048 -0.64031582 -0.64873996 -0.64371378\n",
      "  -0.65146853 -0.65792674 -0.65244088 -0.64777845 -0.65471714 -0.66056797\n",
      "  -0.65552941 -0.65120525 -0.64748049 -0.64426114 -0.64146988 -0.63904279\n",
      "  -0.63692673 -0.64494138 -0.65180619 -0.65771506 -0.66282421 -0.66726033\n",
      "  -0.66314536 -0.66750862 -0.67132449 -0.674673   -0.67762066 -0.67306419\n",
      "  -0.66903723 -0.67261263 -0.67577459 -0.67178884 -0.67502579 -0.67128504\n",
      "  -0.67455811 -0.67102484 -0.66786519 -0.67146578 -0.66841683 -0.67193292\n",
      "  -0.66898535 -0.67241707 -0.66956297 -0.67291132 -0.67014393 -0.66764269\n",
      "  -0.66537869 -0.66332656 -0.6671955  -0.6651118  -0.6687765  -0.67208818\n",
      "  -0.66980657 -0.67299799 -0.67074738 -0.67382986 -0.67663213 -0.67918414\n",
      "  -0.67669304 -0.67441452 -0.67712773 -0.6749044  -0.67286547 -0.6709937\n",
      "  -0.67394553 -0.67664728 -0.67464647 -0.67280481 -0.67556585 -0.67810105\n",
      "  -0.67614943 -0.67862196 -0.68089867 -0.67887706 -0.6770086  -0.67938286\n",
      "  -0.68157476 -0.68360079 -0.68157703 -0.67970152 -0.68184316 -0.68000986\n",
      "  -0.67830764 -0.67672595 -0.67525518 -0.67766885 -0.67990808 -0.68198777\n",
      "  -0.68392132 -0.68572083 -0.68390944 -0.68222037 -0.68411595 -0.68246292\n",
      "  -0.68433173 -0.68607588 -0.68438829 -0.68611941 -0.68447385 -0.68293378\n",
      "  -0.68149158 -0.68014027 -0.6788734  -0.68091121 -0.68281853 -0.68147618\n",
      "  -0.6802158  -0.6790318  -0.68102597 -0.67983663 -0.67871801 -0.68071016\n",
      "  -0.6795821  -0.68151092 -0.68332323 -0.68212203 -0.68099002 -0.67992273\n",
      "  -0.67891601 -0.67796603 -0.67706921 -0.67908522 -0.68098358 -0.67999502\n",
      "  -0.68183142 -0.68356331 -0.68519772 -0.68674115 -0.68557146 -0.68446474\n",
      "  -0.6834172  -0.68503545 -0.68398856 -0.68299673 -0.68462211 -0.68616035\n",
      "  -0.68761699 -0.68652352 -0.68548627 -0.68450201 -0.68602462 -0.68746831\n",
      "  -0.68643797 -0.68785388 -0.68683009 -0.68585714 -0.68728947 -0.68864995\n",
      "  -0.68763731 -0.68667404 -0.68805274 -0.68936373 -0.69061093 -0.68957384\n",
      "  -0.69080548 -0.69197832 -0.69091921 -0.69208162 -0.69103837 -0.69004387\n",
      "  -0.69123719 -0.69237509 -0.69346061 -0.69449659 -0.69342065 -0.69445411\n",
      "  -0.69339843 -0.69442861 -0.6933921  -0.69441831 -0.69539921 -0.69633714\n",
      "  -0.69723433 -0.69809284 -0.6969769  -0.6959099  -0.69488942 -0.6939132\n",
      "  -0.69297907 -0.69400079 -0.69307931 -0.69409271 -0.69506342 -0.69412861\n",
      "  -0.69509399 -0.69601934 -0.69507475 -0.69416946 -0.69330162 -0.6924695\n",
      "  -0.69167145 -0.69090592 -0.69017141 -0.69127135 -0.69232654 -0.69333915\n",
      "  -0.6943112  -0.69524461 -0.69614118 -0.69700264 -0.69783059 -0.69693189\n",
      "  -0.6960685  -0.69692623 -0.69607578 -0.69693005 -0.69609197 -0.69528615\n",
      "  -0.69451121 -0.69541531 -0.69464801 -0.69554365 -0.69478384 -0.69405258\n",
      "  -0.69334868 -0.69428304 -0.69358288 -0.6929086  -0.69225915 -0.6916335\n",
      "  -0.69103066 -0.69203364 -0.6929998  -0.69237183 -0.69332231 -0.69269451\n",
      "  -0.69208917 -0.69150538 -0.69247709 -0.69341402 -0.69431764 -0.69368914\n",
      "  -0.69457997 -0.69395313 -0.69334813 -0.69276412 -0.69220028 -0.69313081\n",
      "  -0.69402907 -0.69489638 -0.69429102 -0.69514649 -0.6959729  -0.69535089]]\n"
     ]
    }
   ],
   "source": [
    "np.savetxt('prueba.txt', Result, delimiter=',')\n",
    "print(Result)"
   ]
  },
  {
   "cell_type": "code",
   "execution_count": 64,
   "metadata": {},
   "outputs": [
    {
     "data": {
      "text/plain": [
       "[<matplotlib.lines.Line2D at 0x7f5798788588>]"
      ]
     },
     "execution_count": 64,
     "metadata": {},
     "output_type": "execute_result"
    },
    {
     "data": {
      "image/png": "[encoded data removed]",
      "text/plain": [
       "<Figure size 432x288 with 1 Axes>"
      ]
     },
     "metadata": {
      "needs_background": "light"
     },
     "output_type": "display_data"
    }
   ],
   "source": [
    "x = range(0,300)\n",
    "plt.loglog(np.array(error[:]).T)"
   ]
  },
  {
   "cell_type": "code",
   "execution_count": 28,
   "metadata": {},
   "outputs": [
    {
     "data": {
      "text/plain": [
       "matrix([[-1.+0.j]])"
      ]
     },
     "execution_count": 28,
     "metadata": {},
     "output_type": "execute_result"
    }
   ],
   "source": [
    "E = A**2 + B**2 + C**2\n",
    "\n",
    "const1 = np.sqrt(1/2) * np.sqrt((A**2+B**2)/(E-C*(np.sqrt(E))))\n",
    "const2 = (C-np.sqrt(E))/(A+1j*B)\n",
    "\n",
    "psi_teo = const1*np.matrix([[const2], [1]])\n",
    "\n",
    "fun(psi_teo)"
   ]
  },
  {
   "cell_type": "code",
   "execution_count": 19,
   "metadata": {},
   "outputs": [
    {
     "name": "stdout",
     "output_type": "stream",
     "text": [
      "[[ 0.36809417+0.09990709j]\n",
      " [-0.41783922-0.8245821j ]]\n"
     ]
    },
    {
     "data": {
      "text/plain": [
       "matrix([[-0.99424503+0.j]])"
      ]
     },
     "execution_count": 19,
     "metadata": {},
     "output_type": "execute_result"
    }
   ],
   "source": [
    "print(psi_est)\n",
    "fun(psi_est)"
   ]
  },
  {
   "cell_type": "code",
   "execution_count": null,
   "metadata": {},
   "outputs": [],
   "source": [
    "Ground_teo = -(np.sqrt(A**2 + B**2 + C**2))\n",
    "print(Ground_teo)\n",
    "\n",
    "error = Result - Ground_teo\n",
    "print(error)"
   ]
  },
  {
   "cell_type": "code",
   "execution_count": null,
   "metadata": {},
   "outputs": [],
   "source": []
  },
  {
   "cell_type": "code",
   "execution_count": null,
   "metadata": {},
   "outputs": [],
   "source": []
  },
  {
   "cell_type": "code",
   "execution_count": null,
   "metadata": {},
   "outputs": [],
   "source": []
  },
  {
   "cell_type": "code",
   "execution_count": null,
   "metadata": {},
   "outputs": [],
   "source": []
  }
 ],
 "metadata": {
  "kernelspec": {
   "display_name": "Python 3",
   "language": "python",
   "name": "python3"
  },
  "language_info": {
   "codemirror_mode": {
    "name": "ipython",
    "version": 3
   },
   "file_extension": ".py",
   "mimetype": "text/x-python",
   "name": "python",
   "nbconvert_exporter": "python",
   "pygments_lexer": "ipython3",
   "version": "3.6.10"
  }
 },
 "nbformat": 4,
 "nbformat_minor": 4
}
