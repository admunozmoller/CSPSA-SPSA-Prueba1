{
 "cells": [
  {
   "cell_type": "code",
   "execution_count": 1,
   "metadata": {},
   "outputs": [],
   "source": [
    "import numpy as np\n",
    "import matplotlib.pyplot as plt\n",
    "%matplotlib inline"
   ]
  },
  {
   "cell_type": "code",
   "execution_count": 2,
   "metadata": {},
   "outputs": [],
   "source": [
    "def CSPSA(psi_est, nu_ite, fun_teor, fun,\n",
    "          s=1, t=1/6, a=3, A=1, b = 0.1 ):\n",
    "    \"\"\"\n",
    "    CSPSA\n",
    "    IN\n",
    "        psi_est: dim x n_par matrix. dim is de dimension of each vector, and n_par\n",
    "                the number of guesses in parallel.\n",
    "        nu_ite: int. Number of iterations of CSPSA.\n",
    "        fun_teor: function. It is the known function, for example, the theoretical\n",
    "                 fidelity between the unknown state of the system and the guess.\n",
    "        fun: function. CSPSA uses this function for the optimization.\n",
    "        s, t, a, A, b: parametros CSPSA\n",
    "    OUT\n",
    "        valor_optimo: real. Optimal value of fun finded by CSPSA.\n",
    "    \"\"\"\n",
    "\n",
    "    n_par = int(psi_est.size/psi_est.shape[0])\n",
    "    valor_optimo = np.zeros((n_par, nu_ite))\n",
    "    valor_optimo[:,0] = fun_teor(psi_est)\n",
    "\n",
    "    for k in range(0,nu_ite-1):\n",
    "        valor_optimo[:,k+1], psi_est = (itCSPSA(psi_est/np.linalg.norm(psi_est, axis = 0),\n",
    "                                       k, s, t, a, A, b, fun, fun_teor ))\n",
    "\n",
    "\n",
    "    return valor_optimo"
   ]
  },
  {
   "cell_type": "code",
   "execution_count": 3,
   "metadata": {},
   "outputs": [],
   "source": [
    "def itCSPSA(z_k,  k, s, t, a, A, b, fun, fun_teor):\n",
    "    \"\"\"iteracion de CSPSA\n",
    "    IN\n",
    "        z_k: dim x n_rep. Cada columna es un estimador de dimension dim.\n",
    "        k: iteracion\n",
    "        s, t, a, A, b: parametros CSPSA\n",
    "        fun: funcion a optimizar\n",
    "    OUT\n",
    "        z_k: dim x n_rep. Estimador actualizado\n",
    "        z_value: real. valor de fun en el estimador z_k\n",
    "    \"\"\"\n",
    "    dim = z_k.shape[0]\n",
    "    rep = int(z_k.size/z_k.shape[0])\n",
    "    alpha = a/(k+1+A)**s\n",
    "    beta = b/(k+1)**t\n",
    "    delta = (1j)**(np.random.randint(1,5,(dim, rep))).reshape(2,rep)\n",
    "    z_k_mas = z_k + beta*delta\n",
    "    z_k_menos = z_k - beta*delta\n",
    "    fun_k_mas = fun(z_k_mas)\n",
    "    fun_k_menos = fun(z_k_menos)\n",
    "    grad = np.divide(fun_k_mas - fun_k_menos, 2*beta*delta.conj())\n",
    "    z_k = z_k - alpha*grad\n",
    "    z_value = fun_teor(z_k)\n",
    "    return z_value, z_k"
   ]
  },
  {
   "cell_type": "code",
   "execution_count": 4,
   "metadata": {},
   "outputs": [],
   "source": [
    "def SPSA(psi_est, nu_ite, fun_teor, fun,\n",
    "          s=1, t=1/6, a=3, A=1, b = 0.1 ):\n",
    "    \"\"\"\n",
    "    SPSA\n",
    "    IN\n",
    "        psi_est: dim x n_par matrix. dim is de dimension of each vector, and n_par\n",
    "                the number of guesses in parallel.\n",
    "        nu_ite: int. Number of iterations of SPSA.\n",
    "        fun_teor: function. It is the known function, for example, the theoretical\n",
    "                 fidelity between the unknown state of the system and the guess.\n",
    "        fun: function. SPSA uses this function for the optimization.\n",
    "        s, t, a, A, b: parametros SPSA\n",
    "    OUT\n",
    "        valor_optimo: real. Optimal value of fun finded by SPSA.\n",
    "    \"\"\"\n",
    "\n",
    "    n_par = int(psi_est.size/psi_est.shape[0])\n",
    "    valor_optimo = np.zeros((n_par, nu_ite))\n",
    "    valor_optimo[:,0] = fun_teor(psi_est)\n",
    "\n",
    "    for k in range(0,nu_ite-1):\n",
    "        valor_optimo[:,k+1], psi_est = (itSPSA(psi_est/np.linalg.norm(psi_est, axis = 0),\n",
    "                                       k, s, t, a, A, b, fun, fun_teor ))\n",
    "\n",
    "\n",
    "    return valor_optimo"
   ]
  },
  {
   "cell_type": "code",
   "execution_count": 5,
   "metadata": {},
   "outputs": [],
   "source": [
    "def itSPSA(z_k,  k, s, t, a, A, b, fun, fun_teor):\n",
    "    \"\"\"iteracion de SPSA\n",
    "    IN\n",
    "        z_k: dim x n_rep. Cada columna es un estimador de dimension dim.\n",
    "        k: iteracion\n",
    "        s, t, a, A, b: parametros SPSA\n",
    "        fun: funcion a optimizar\n",
    "    OUT\n",
    "        z_k: dim x n_rep. Estimador actualizado\n",
    "        z_value: real. valor de fun en el estimador z_k\n",
    "    \"\"\"\n",
    "    dim = z_k.shape[0]\n",
    "    rep = int(z_k.size/z_k.shape[0])\n",
    "    alpha = a/(k+1+A)**s\n",
    "    beta = b/(k+1)**t\n",
    "    \n",
    "    #Cambiamos un delta complejo por uno real (+1,-1)\n",
    "    \n",
    "    delta = (-1)**(np.random.randint(1,5,(dim, rep))).reshape(2,rep)\n",
    "    delta_i = (-1)**(np.random.randint(1,5,(dim, rep))).reshape(2,rep)\n",
    "    \n",
    "    #Definimos parte real e imaginaria\n",
    "    \n",
    "    z_k_mas_r = np.real(z_k) + beta*delta\n",
    "    z_k_mas_i = np.imag(z_k) + beta*delta_i\n",
    "    z_k_menos_r = np.real(z_k) - beta*delta\n",
    "    z_k_menos_i = np.imag(z_k) - beta*delta_i\n",
    "    \n",
    "    #Nuevo estado, normalizado\n",
    "    \n",
    "    z_k_mas = z_k_mas_r +1j*z_k_mas_i\n",
    "    z_k_menos = z_k_menos_r+1j*z_k_menos_i\n",
    "    \n",
    "    z_k_mas = z_k_mas/np.linalg.norm(z_k_mas, axis=0)\n",
    "    z_k_menos = z_k_menos/np.linalg.norm(z_k_menos, axis=0)\n",
    "    \n",
    "    fun_k_mas = fun(z_k_mas)\n",
    "    fun_k_menos = fun(z_k_menos)\n",
    "    \n",
    "    #Gradiente real e imaginaria\n",
    "    \n",
    "    grad = np.divide(fun_k_mas - fun_k_menos, 2*beta*delta)\n",
    "    grad_i = np.divide(fun_k_mas - fun_k_menos, 2*beta*delta_i)\n",
    "    \n",
    "    z_k = z_k - alpha*grad - 1j*alpha*grad_i\n",
    "    z_k = z_k/np.linalg.norm(z_k, axis=0)\n",
    "    \n",
    "    z_value = fun_teor(z_k)\n",
    "    return z_value, z_k"
   ]
  },
  {
   "cell_type": "code",
   "execution_count": 6,
   "metadata": {},
   "outputs": [],
   "source": [
    "# Definir Estado\n",
    "\n",
    "def estado(dim, n_par):\n",
    "    psi = (np.random.normal(loc=0.0, scale=1.0,\n",
    "           size=(dim, n_par))\n",
    "           + np.random.normal(loc=0.0, scale=1.0,\n",
    "           size=(dim, n_par))*1j)\n",
    "    psi = psi/np.linalg.norm(psi, axis=0)\n",
    "    return psi"
   ]
  },
  {
   "cell_type": "code",
   "execution_count": 7,
   "metadata": {},
   "outputs": [],
   "source": [
    "# Definir Hamiltoniano\n",
    "\n",
    "def H_paul (A,B,C):\n",
    "    pauli_x = np.array((((0, 1), (1, 0))))\n",
    "    pauli_y = np.array((((0, -1j), (1j, 0))))\n",
    "    pauli_z = np.array((((1, 0), (0, -1))))\n",
    "    H_paul = A*pauli_x + B*pauli_y + C*pauli_z\n",
    "    return H_paul"
   ]
  },
  {
   "cell_type": "code",
   "execution_count": 8,
   "metadata": {},
   "outputs": [],
   "source": [
    "# Definir Valor de expectacion\n",
    "\n",
    "def exp_H (psi_est, H):\n",
    "    psi = np.matrix(psi_est)\n",
    "    psi = psi/np.linalg.norm(psi, axis=0)\n",
    "    psi_dagger = psi.getH()\n",
    "    H = np.matrix(H)\n",
    "    exp_H = psi_dagger*H*psi\n",
    "    return exp_H"
   ]
  },
  {
   "cell_type": "code",
   "execution_count": 9,
   "metadata": {},
   "outputs": [],
   "source": [
    "d = 2\n",
    "nu_par = 1\n",
    "NU_ITERACIONES = 800\n",
    "\n",
    "#A = np.sqrt(0.3)\n",
    "#B = np.sqrt(0.2)\n",
    "#C = np.sqrt(0.5)\n",
    "A = 1\n",
    "B = 3\n",
    "C = 5"
   ]
  },
  {
   "cell_type": "code",
   "execution_count": 10,
   "metadata": {},
   "outputs": [],
   "source": [
    "psi_est = estado(d,nu_par)\n"
   ]
  },
  {
   "cell_type": "code",
   "execution_count": 11,
   "metadata": {
    "scrolled": true
   },
   "outputs": [],
   "source": [
    "H = H_paul(A,B,C)\n"
   ]
  },
  {
   "cell_type": "code",
   "execution_count": 12,
   "metadata": {},
   "outputs": [],
   "source": [
    "fun = lambda x : exp_H(x, H)\n"
   ]
  },
  {
   "cell_type": "code",
   "execution_count": 13,
   "metadata": {},
   "outputs": [
    {
     "name": "stdout",
     "output_type": "stream",
     "text": [
      "-5.916079783099616\n"
     ]
    }
   ],
   "source": [
    "# Ground-state Teórico\n",
    "\n",
    "E = A**2 + B**2 + C**2\n",
    "\n",
    "const1 = np.sqrt(1/2) * np.sqrt((A**2+B**2)/(E-C*(np.sqrt(E))))\n",
    "const2 = (C-np.sqrt(E))/(A+1j*B)\n",
    "\n",
    "#psi_teo = const1*np.matrix([[const2], [1]])\n",
    "#fun(psi_teo)\n",
    "\n",
    "Ground_teo = -(np.sqrt(A**2 + B**2 + C**2))\n",
    "print(Ground_teo)"
   ]
  },
  {
   "cell_type": "code",
   "execution_count": 14,
   "metadata": {
    "scrolled": true
   },
   "outputs": [
    {
     "name": "stderr",
     "output_type": "stream",
     "text": [
      "/home/dmunoz/anaconda3/lib/python3.6/site-packages/ipykernel_launcher.py:19: ComplexWarning: Casting complex values to real discards the imaginary part\n",
      "/home/dmunoz/anaconda3/lib/python3.6/site-packages/ipykernel_launcher.py:23: ComplexWarning: Casting complex values to real discards the imaginary part\n"
     ]
    }
   ],
   "source": [
    "Result_CSPSA = CSPSA(psi_est, NU_ITERACIONES, fun, fun)"
   ]
  },
  {
   "cell_type": "code",
   "execution_count": 15,
   "metadata": {},
   "outputs": [
    {
     "name": "stderr",
     "output_type": "stream",
     "text": [
      "/home/dmunoz/anaconda3/lib/python3.6/site-packages/ipykernel_launcher.py:19: ComplexWarning: Casting complex values to real discards the imaginary part\n",
      "/home/dmunoz/anaconda3/lib/python3.6/site-packages/ipykernel_launcher.py:23: ComplexWarning: Casting complex values to real discards the imaginary part\n"
     ]
    }
   ],
   "source": [
    "Result_SPSA = SPSA(psi_est, NU_ITERACIONES, fun, fun)"
   ]
  },
  {
   "cell_type": "code",
   "execution_count": 16,
   "metadata": {
    "scrolled": true
   },
   "outputs": [],
   "source": [
    "error_CSPSA = abs(Result_CSPSA - Ground_teo)\n",
    "error_SPSA = abs(Result_SPSA - Ground_teo)"
   ]
  },
  {
   "cell_type": "code",
   "execution_count": 17,
   "metadata": {},
   "outputs": [
    {
     "data": {
      "text/plain": [
       "[<matplotlib.lines.Line2D at 0x7efcff484f98>]"
      ]
     },
     "execution_count": 17,
     "metadata": {},
     "output_type": "execute_result"
    },
    {
     "data": {
      "image/png": "[encoded data removed]",
      "text/plain": [
       "<Figure size 432x288 with 1 Axes>"
      ]
     },
     "metadata": {
      "needs_background": "light"
     },
     "output_type": "display_data"
    }
   ],
   "source": [
    "plt.plot(np.array(error_CSPSA[:]).T)\n",
    "#plt.loglog(np.array(error_CSPSA[:]).T)"
   ]
  },
  {
   "cell_type": "code",
   "execution_count": 18,
   "metadata": {},
   "outputs": [
    {
     "data": {
      "text/plain": [
       "[<matplotlib.lines.Line2D at 0x7efcff3a00f0>]"
      ]
     },
     "execution_count": 18,
     "metadata": {},
     "output_type": "execute_result"
    },
    {
     "data": {
      "image/png": "[encoded data removed]",
      "text/plain": [
       "<Figure size 432x288 with 1 Axes>"
      ]
     },
     "metadata": {
      "needs_background": "light"
     },
     "output_type": "display_data"
    }
   ],
   "source": [
    "#plt.loglog(np.array(error_SPSA[:]).T)\n",
    "plt.plot(np.array(error_SPSA[:]).T)"
   ]
  },
  {
   "cell_type": "code",
   "execution_count": 19,
   "metadata": {},
   "outputs": [
    {
     "name": "stdout",
     "output_type": "stream",
     "text": [
      "[[ 4.1649735  -0.71916624  2.86584937 -3.32915918 -4.42237601 -4.19488651\n",
      "  -1.9798397  -3.0247741  -2.31755066  0.36170517 -4.3278475  -4.21071673\n",
      "  -3.9541812  -4.34984391  2.26231388 -2.49945901 -0.45643975 -5.22754472\n",
      "  -3.34035851 -2.76777179  1.90989222 -3.2718231  -3.27120162 -3.11084358\n",
      "  -4.51388353 -4.46847229 -3.84476078  1.21511883 -1.34475528 -1.37068705\n",
      "  -3.56945406 -3.5686797   3.07521397 -0.26135577 -2.08809931 -3.45357147\n",
      "  -2.47644634 -3.72467212 -2.72176174 -1.20925806 -1.26993207 -1.46154582\n",
      "  -5.17763773 -4.57657586 -4.58386314 -4.60604771 -3.60893005 -3.83499039\n",
      "  -2.6327293  -2.87166002 -2.91254412 -2.97553283 -3.1195946  -3.44311429\n",
      "  -3.91048998 -3.7747306  -3.71327068 -3.77889481 -5.079375   -5.26234481\n",
      "  -4.88042767 -4.87239835 -5.84766407 -5.87240542 -5.873511   -5.84178367\n",
      "  -5.61372099 -5.91483268 -5.91523392 -5.91528037 -5.91566423 -5.91556664\n",
      "  -5.91554212 -5.91557737 -5.91546433 -5.915371   -5.91534138 -5.91296183\n",
      "  -5.91281966 -5.91401556 -5.91606856 -5.91590706 -5.91588445 -5.91576607\n",
      "  -5.91572881 -5.91325613 -5.91392783 -5.9144992  -5.91399107 -5.91452027\n",
      "  -5.91255969 -5.90983527 -5.90820366 -5.90800368 -5.91153147 -5.91371633\n",
      "  -5.91543416 -5.9144675  -5.91553768 -5.9145599  -5.91504376 -5.91591253\n",
      "  -5.91580708 -5.91581338 -5.91591942 -5.9160694  -5.91599891 -5.9159504\n",
      "  -5.91576522 -5.91585084 -5.91584761 -5.91605867 -5.91605718 -5.91599426\n",
      "  -5.91526455 -5.91523992 -5.91590686 -5.91594908 -5.91567727 -5.91593577\n",
      "  -5.91589552 -5.91601723 -5.91602248 -5.91597844 -5.91589977 -5.91536456\n",
      "  -5.91603397 -5.91605591 -5.91606305 -5.91570389 -5.91570298 -5.91546318\n",
      "  -5.91555252 -5.91588725 -5.91601098 -5.91604531 -5.91602108 -5.9159737\n",
      "  -5.91593072 -5.9159822  -5.91596112 -5.91603479 -5.91580618 -5.91579691\n",
      "  -5.91578839 -5.91578415 -5.91594157 -5.9160285  -5.91601298 -5.91587422\n",
      "  -5.91603913 -5.91605645 -5.91607454 -5.91599652 -5.91605874 -5.91589136\n",
      "  -5.91596794 -5.91607722 -5.91607716 -5.91605997 -5.91603787 -5.91583753\n",
      "  -5.91597813 -5.91598524 -5.91596112 -5.91607646 -5.91606655 -5.91603664\n",
      "  -5.91601649 -5.91602625 -5.91602426 -5.91604046 -5.9159337  -5.91606083\n",
      "  -5.91605906 -5.91590767 -5.91578137 -5.91579689 -5.91580089 -5.91604381\n",
      "  -5.91598802 -5.9159571  -5.91590189 -5.91596597 -5.91607922 -5.91595512\n",
      "  -5.91607545 -5.91606528 -5.91605629 -5.91607219 -5.91595407 -5.9160689\n",
      "  -5.91596745 -5.91598702 -5.91605898 -5.91604961 -5.91606985 -5.91607678\n",
      "  -5.91597207 -5.91596146 -5.91604692 -5.91605448 -5.91600722 -5.91591423\n",
      "  -5.91604073 -5.91606618 -5.91600483 -5.91603679 -5.91595418 -5.91598617\n",
      "  -5.91597065 -5.91607636 -5.91599647 -5.9160505  -5.91604964 -5.91605399\n",
      "  -5.91598298 -5.91594267 -5.91592256 -5.91603544 -5.91603589 -5.916036\n",
      "  -5.91595964 -5.91595321 -5.91605568 -5.91606492 -5.91606596 -5.91599629\n",
      "  -5.91600391 -5.91606849 -5.91603856 -5.9160648  -5.91603304 -5.91603461\n",
      "  -5.91603832 -5.91598679 -5.91592164 -5.91597432 -5.91600234 -5.91603098\n",
      "  -5.91597264 -5.91600632 -5.91595232 -5.91598759 -5.91595041 -5.91600367\n",
      "  -5.91606728 -5.91607976 -5.91607941 -5.91607919 -5.91602913 -5.91604928\n",
      "  -5.91600042 -5.91603295 -5.91604328 -5.91599327 -5.91594226 -5.91592131\n",
      "  -5.91597294 -5.91606702 -5.91601908 -5.9160733  -5.91606699 -5.91606505\n",
      "  -5.91607481 -5.91602659 -5.9160272  -5.9159826  -5.91606409 -5.91607559\n",
      "  -5.91603177 -5.91607592 -5.91607583 -5.91602911 -5.9160659  -5.91605869\n",
      "  -5.9160771  -5.91603215 -5.91603202 -5.91601266 -5.91606457 -5.91602528\n",
      "  -5.91602528 -5.91601215 -5.9160681  -5.91607873 -5.91607885 -5.91607873\n",
      "  -5.91604227 -5.91600199 -5.91605691 -5.91601644 -5.91602015 -5.91606495\n",
      "  -5.91607936 -5.91604767 -5.91604806 -5.91605579 -5.91606007 -5.91606132\n",
      "  -5.91602602 -5.91603521 -5.91601139 -5.91601838 -5.91602346 -5.9160233\n",
      "  -5.91606878 -5.9160344  -5.91603083 -5.91602763 -5.91602873 -5.91606681\n",
      "  -5.91607869 -5.91607695 -5.91605159 -5.91607252 -5.91605523 -5.91602175\n",
      "  -5.9160581  -5.91606291 -5.9160685  -5.91605103 -5.91606478 -5.91607072\n",
      "  -5.91603931 -5.91601884 -5.91602266 -5.91605535 -5.91606362 -5.91605966\n",
      "  -5.91603172 -5.9160184  -5.91606048 -5.91603372 -5.91606541 -5.91606701\n",
      "  -5.91604751 -5.91601799 -5.91604905 -5.91602006 -5.91599447 -5.9160264\n",
      "  -5.91602015 -5.91601761 -5.91599265 -5.91596574 -5.9160454  -5.9160564\n",
      "  -5.91605622 -5.91605605 -5.91607322 -5.91607137 -5.91605453 -5.91606366\n",
      "  -5.91607726 -5.91605541 -5.91602932 -5.91606613 -5.9160649  -5.9160773\n",
      "  -5.91607795 -5.91607494 -5.91607134 -5.91606821 -5.91607102 -5.91606701\n",
      "  -5.91607693 -5.9160737  -5.91607733 -5.91606578 -5.91606973 -5.91604497\n",
      "  -5.91602253 -5.91604396 -5.91601989 -5.91602119 -5.91601913 -5.91600633\n",
      "  -5.91600711 -5.91604952 -5.91603685 -5.91604024 -5.91602536 -5.9160637\n",
      "  -5.91605147 -5.91603091 -5.91601884 -5.9160531  -5.91606296 -5.91606913\n",
      "  -5.91607356 -5.91605592 -5.91606702 -5.91606536 -5.91604504 -5.91606224\n",
      "  -5.91606391 -5.91606516 -5.91606787 -5.91606782 -5.91606522 -5.91606581\n",
      "  -5.91607594 -5.9160671  -5.91605579 -5.91606099 -5.91604988 -5.91604018\n",
      "  -5.9160324  -5.91603614 -5.91606697 -5.91605768 -5.91605093 -5.91606526\n",
      "  -5.91606639 -5.91606916 -5.91606065 -5.91604998 -5.91604    -5.91605701\n",
      "  -5.91605795 -5.91604188 -5.916049   -5.91604059 -5.91606416 -5.91607545\n",
      "  -5.91607308 -5.91607478 -5.91607674 -5.91607482 -5.91607366 -5.91607423\n",
      "  -5.91607166 -5.91607239 -5.91607276 -5.91607144 -5.91607634 -5.91607959\n",
      "  -5.91607419 -5.91607492 -5.91607382 -5.9160726  -5.91606413 -5.91607909\n",
      "  -5.91607904 -5.91607834 -5.91607879 -5.91607571 -5.91607752 -5.91607742\n",
      "  -5.91607669 -5.91607661 -5.91607787 -5.91607575 -5.91606791 -5.91605211\n",
      "  -5.91604313 -5.91603436 -5.91606026 -5.9160702  -5.91607134 -5.91607497\n",
      "  -5.91607407 -5.91607205 -5.91607682 -5.91606289 -5.91604899 -5.91604061\n",
      "  -5.91603249 -5.91603249 -5.91605687 -5.91606721 -5.91605868 -5.91606756\n",
      "  -5.91606746 -5.91605667 -5.91606186 -5.91606735 -5.91607115 -5.91607039\n",
      "  -5.91607162 -5.91607228 -5.9160705  -5.91606249 -5.91607931 -5.91607548\n",
      "  -5.91606291 -5.91607105 -5.91606325 -5.91606975 -5.91607178 -5.91607096\n",
      "  -5.91607102 -5.91606904 -5.91606925 -5.91606186 -5.91605965 -5.91605863\n",
      "  -5.9160624  -5.91605485 -5.91607888 -5.91607574 -5.91607573 -5.91607767\n",
      "  -5.91606792 -5.91606687 -5.91607456 -5.91607447 -5.91607869 -5.91607583\n",
      "  -5.91607642 -5.91607479 -5.91607722 -5.91607104 -5.91606373 -5.91606729\n",
      "  -5.91607005 -5.91607759 -5.91607465 -5.91607766 -5.91607208 -5.91607471\n",
      "  -5.91607416 -5.91607523 -5.91607396 -5.91606744 -5.91607931 -5.91607626\n",
      "  -5.91607423 -5.91607581 -5.91607152 -5.91607466 -5.9160682  -5.9160685\n",
      "  -5.91605977 -5.91605308 -5.91606367 -5.91606677 -5.91606    -5.91606098\n",
      "  -5.91606368 -5.91606817 -5.91606174 -5.91606885 -5.91607408 -5.91607328\n",
      "  -5.91607184 -5.9160723  -5.91607734 -5.91607876 -5.9160793  -5.91607527\n",
      "  -5.91607472 -5.91606878 -5.91605785 -5.91605861 -5.91607028 -5.91605946\n",
      "  -5.91605339 -5.91604486 -5.91605821 -5.91606794 -5.91606962 -5.91607654\n",
      "  -5.91607916 -5.91607388 -5.91607755 -5.91607748 -5.91607716 -5.91606753\n",
      "  -5.91607432 -5.91607427 -5.91607738 -5.91607449 -5.9160766  -5.91606827\n",
      "  -5.91606484 -5.91606251 -5.91606127 -5.91606005 -5.91605911 -5.91606942\n",
      "  -5.91606683 -5.91607357 -5.91607692 -5.91606815 -5.91607568 -5.91606692\n",
      "  -5.91606833 -5.91607116 -5.91606069 -5.91605139 -5.91605996 -5.916061\n",
      "  -5.91606661 -5.91605629 -5.91606632 -5.91606818 -5.91605902 -5.91606093\n",
      "  -5.91605069 -5.91606218 -5.91606772 -5.91606906 -5.91606091 -5.91606197\n",
      "  -5.91606695 -5.91606793 -5.91606874 -5.91607188 -5.91606409 -5.91607262\n",
      "  -5.91606323 -5.91606533 -5.9160679  -5.91607124 -5.91607845 -5.91607806\n",
      "  -5.91607747 -5.9160791  -5.91607775 -5.91607813 -5.91607762 -5.9160795\n",
      "  -5.91607869 -5.91607911 -5.91607523 -5.91607779 -5.91607841 -5.91607733\n",
      "  -5.91607678 -5.91607913 -5.91607952 -5.91607369 -5.91606522 -5.91606516\n",
      "  -5.91605852 -5.91604948 -5.91606393 -5.91606846 -5.91607331 -5.91607804\n",
      "  -5.91607857 -5.91607599 -5.91607511 -5.91607403 -5.91607782 -5.91607497\n",
      "  -5.91607635 -5.91607206 -5.91607663 -5.91606893 -5.91606888 -5.91606113\n",
      "  -5.91606044 -5.91605408 -5.91604928 -5.91604826 -5.91606136 -5.91607008\n",
      "  -5.91607495 -5.91607402 -5.91607422 -5.91606651 -5.91607329 -5.91607677\n",
      "  -5.91606971 -5.9160752  -5.91606768 -5.91607356 -5.91607744 -5.91607742\n",
      "  -5.91607868 -5.91607234 -5.9160766  -5.91607113 -5.91607563 -5.91606904\n",
      "  -5.91607492 -5.91607582 -5.91606859 -5.91607231 -5.91607735 -5.9160789\n",
      "  -5.91607865 -5.91607967 -5.91607903 -5.91607909 -5.91607815 -5.91607848\n",
      "  -5.91607743 -5.91607792 -5.91607683 -5.91607905 -5.91607605 -5.91607789\n",
      "  -5.91607154 -5.91607136 -5.91606703 -5.91605982 -5.91605354 -5.91605956\n",
      "  -5.91606289 -5.91606446 -5.91607088 -5.9160633  -5.91605647 -5.91606044\n",
      "  -5.91605354 -5.91604665 -5.91604072 -5.91604547 -5.91606238 -5.91606939\n",
      "  -5.91607045 -5.91607201 -5.91606467 -5.91606523 -5.9160652  -5.91607532\n",
      "  -5.91606849 -5.91606284 -5.91606813 -5.91607192 -5.91607298 -5.91607354\n",
      "  -5.91606736 -5.91606802 -5.91606153 -5.91605586 -5.91605665 -5.91606318\n",
      "  -5.91605607 -5.91606239 -5.91605684 -5.91606759 -5.91607228 -5.91607386\n",
      "  -5.91607374 -5.91607373 -5.91606737 -5.91607267 -5.91607263 -5.91607258\n",
      "  -5.91607254 -5.91606625 -5.91607294 -5.91607671 -5.91607359 -5.91606758\n",
      "  -5.91606136 -5.91606352 -5.9160694  -5.91607093 -5.91607511 -5.91607808\n",
      "  -5.91607275 -5.91607273 -5.91607676 -5.91607274 -5.91607305 -5.91607436\n",
      "  -5.91607651 -5.91607566 -5.91607495 -5.91607767 -5.91607621 -5.91607587\n",
      "  -5.91607379 -5.91606792 -5.91607256 -5.91607565 -5.91607711 -5.91607831\n",
      "  -5.91607868 -5.91607893 -5.91607881 -5.91607469 -5.91607415 -5.91606837\n",
      "  -5.9160629  -5.91606969 -5.9160737  -5.91607683 -5.91607885 -5.91607961\n",
      "  -5.91607965 -5.91607646 -5.9160787  -5.91607831 -5.91607906 -5.91607487\n",
      "  -5.9160775  -5.91607875 -5.91607748 -5.91607896 -5.91607905 -5.916075\n",
      "  -5.91607623 -5.91607658]]\n"
     ]
    }
   ],
   "source": [
    "np.savetxt('prueba.txt', Result_SPSA, delimiter=',')\n",
    "print(Result_SPSA)"
   ]
  },
  {
   "cell_type": "code",
   "execution_count": 20,
   "metadata": {},
   "outputs": [
    {
     "name": "stdout",
     "output_type": "stream",
     "text": [
      "[[ 4.1649735   2.5219222  -3.4317141  -0.12342607 -1.81299672 -3.69571485\n",
      "  -4.27332272 -1.96735191 -0.94215122 -2.66313677 -1.02168857 -1.01642395\n",
      "   1.18056035 -1.67514767 -1.68695616  0.56013029 -0.70283768 -0.00967472\n",
      "  -0.77997572 -1.02361427 -2.36124554 -5.16319283 -5.40336434 -5.2229079\n",
      "  -5.25080493 -4.77891828 -5.12425135 -4.97026378 -5.29316528 -4.88438049\n",
      "  -5.20493327 -4.87696947 -4.94829307 -4.92549968 -5.44077041 -5.35777764\n",
      "  -5.35944559 -5.52393862 -5.5384362  -5.80915788 -5.81204532 -5.80890767\n",
      "  -5.80360341 -5.70881445 -5.8965789  -5.9020671  -5.90833943 -5.90957674\n",
      "  -5.91483504 -5.9155526  -5.91601601 -5.91592284 -5.91563696 -5.91578846\n",
      "  -5.91579519 -5.91579312 -5.91573228 -5.91571971 -5.91566217 -5.91601645\n",
      "  -5.91593818 -5.91604494 -5.91602788 -5.91601914 -5.91602824 -5.91604428\n",
      "  -5.91595376 -5.91593821 -5.91592933 -5.9160055  -5.91600158 -5.9160059\n",
      "  -5.91595861 -5.91601733 -5.91601084 -5.91596172 -5.9159566  -5.91595329\n",
      "  -5.91601633 -5.91600112 -5.91600864 -5.91605335 -5.91598949 -5.91598292\n",
      "  -5.91606277 -5.91605946 -5.91603926 -5.91603567 -5.91603576 -5.91602353\n",
      "  -5.91602285 -5.91602376 -5.91597214 -5.91598608 -5.91603298 -5.91606138\n",
      "  -5.91604628 -5.91605626 -5.91605571 -5.91604784 -5.91603047 -5.91606456\n",
      "  -5.91604424 -5.91607829 -5.91604136 -5.91604129 -5.91607819 -5.91607679\n",
      "  -5.91607698 -5.9160753  -5.91605699 -5.91602579 -5.91602323 -5.91603988\n",
      "  -5.91601453 -5.91602664 -5.91606316 -5.91607595 -5.91607682 -5.91605048\n",
      "  -5.91607841 -5.91607836 -5.91605361 -5.91605151 -5.91607822 -5.91606854\n",
      "  -5.91607175 -5.91607381 -5.91607188 -5.9160694  -5.91607817 -5.91607842\n",
      "  -5.91607976 -5.91607977 -5.91607974 -5.91606334 -5.91606206 -5.9160684\n",
      "  -5.91606438 -5.91607896 -5.91607185 -5.9160706  -5.91607059 -5.91606685\n",
      "  -5.91607066 -5.9160687  -5.91607951 -5.91606513 -5.91605075 -5.91605482\n",
      "  -5.91607508 -5.91606005 -5.91604553 -5.91604863 -5.91604909 -5.91603498\n",
      "  -5.91606872 -5.91607085 -5.91607084 -5.91607848 -5.91606499 -5.91606389\n",
      "  -5.91606396 -5.91605327 -5.91607345 -5.91607181 -5.91606279 -5.91606494\n",
      "  -5.91607666 -5.91606504 -5.91607207 -5.91607223 -5.91607235 -5.91607873\n",
      "  -5.91606757 -5.91607692 -5.91607964 -5.91607868 -5.91607424 -5.91607823\n",
      "  -5.91607966 -5.91607325 -5.91606316 -5.91605579 -5.91604723 -5.91605812\n",
      "  -5.9160737  -5.91606474 -5.91606409 -5.91606409 -5.91606407 -5.91607572\n",
      "  -5.91607503 -5.91606931 -5.91607186 -5.91607785 -5.91607787 -5.91607167\n",
      "  -5.91607541 -5.91607488 -5.91606939 -5.91607175 -5.91607747 -5.91606925\n",
      "  -5.91606327 -5.91607297 -5.91606532 -5.91605782 -5.91606329 -5.9160558\n",
      "  -5.91605108 -5.91605673 -5.91606658 -5.91606734 -5.91606084 -5.91606304\n",
      "  -5.91607377 -5.9160671  -5.91606708 -5.91606644 -5.91606254 -5.91607\n",
      "  -5.91606999 -5.91606482 -5.91606171 -5.91605501 -5.91606536 -5.91606716\n",
      "  -5.91607182 -5.91606529 -5.91605999 -5.91606108 -5.91607117 -5.91607615\n",
      "  -5.91607014 -5.91607396 -5.91607705 -5.91607096 -5.91606517 -5.91606547\n",
      "  -5.91606885 -5.91607718 -5.91607832 -5.91607431 -5.91607538 -5.91606954\n",
      "  -5.91607496 -5.91607534 -5.91607564 -5.91607859 -5.91607807 -5.91607557\n",
      "  -5.91607576 -5.91607673 -5.91607762 -5.91607438 -5.91607607 -5.91607304\n",
      "  -5.91607342 -5.91607317 -5.91607547 -5.91607249 -5.91606966 -5.9160692\n",
      "  -5.91607359 -5.91607565 -5.91607515 -5.9160746  -5.916074   -5.91607397\n",
      "  -5.91607946 -5.91607946 -5.91607784 -5.9160766  -5.91607813 -5.91607854\n",
      "  -5.91607886 -5.91607857 -5.91607593 -5.91607817 -5.91607904 -5.916077\n",
      "  -5.91607448 -5.91607561 -5.91607666 -5.91607749 -5.91607811 -5.91607857\n",
      "  -5.91607836 -5.91607938 -5.91607934 -5.91607913 -5.91607831 -5.91607896\n",
      "  -5.91607896 -5.91607853 -5.91607978 -5.91607791 -5.91607788 -5.91607759\n",
      "  -5.9160797  -5.91607932 -5.91607945 -5.91607851 -5.91607878 -5.91607546\n",
      "  -5.91607618 -5.9160762  -5.91607562 -5.91607545 -5.9160718  -5.91607754\n",
      "  -5.91607726 -5.91607738 -5.91607769 -5.91607795 -5.91607458 -5.9160761\n",
      "  -5.91607875 -5.91607891 -5.9160763  -5.91607696 -5.91607696 -5.91607598\n",
      "  -5.91607446 -5.91607132 -5.9160748  -5.91607758 -5.91607765 -5.91607877\n",
      "  -5.91607918 -5.9160797  -5.91607751 -5.91607741 -5.91607713 -5.91607558\n",
      "  -5.91607557 -5.91607554 -5.91607447 -5.91607419 -5.91607396 -5.91607108\n",
      "  -5.91607483 -5.9160768  -5.91607637 -5.91607638 -5.91607615 -5.91607811\n",
      "  -5.91607906 -5.91607966 -5.91607769 -5.91607483 -5.91607719 -5.91607707\n",
      "  -5.91607845 -5.9160791  -5.91607884 -5.91607931 -5.91607907 -5.91607912\n",
      "  -5.9160793  -5.91607842 -5.9160778  -5.91607879 -5.9160791  -5.91607899\n",
      "  -5.91607876 -5.91607881 -5.91607886 -5.91607951 -5.91607877 -5.91607655\n",
      "  -5.91607697 -5.9160743  -5.91607509 -5.91607575 -5.91607575 -5.91607642\n",
      "  -5.9160764  -5.91607638 -5.91607879 -5.91607662 -5.91607497 -5.91607237\n",
      "  -5.91607581 -5.91607328 -5.9160758  -5.91607622 -5.91607626 -5.91607782\n",
      "  -5.91607588 -5.91607693 -5.9160747  -5.91607593 -5.91607573 -5.91607489\n",
      "  -5.91607678 -5.91607558 -5.91607727 -5.91607785 -5.91607783 -5.91607846\n",
      "  -5.91607685 -5.91607696 -5.91607684 -5.91607815 -5.91607817 -5.91607605\n",
      "  -5.9160776  -5.91607864 -5.91607936 -5.91607958 -5.91607938 -5.91607809\n",
      "  -5.91607605 -5.91607607 -5.9160775  -5.91607646 -5.91607523 -5.91607545\n",
      "  -5.9160763  -5.91607739 -5.91607756 -5.91607796 -5.91607943 -5.91607944\n",
      "  -5.91607973 -5.91607975 -5.91607937 -5.91607963 -5.91607841 -5.91607849\n",
      "  -5.91607662 -5.91607802 -5.91607894 -5.91607794 -5.91607885 -5.91607917\n",
      "  -5.9160792  -5.91607924 -5.91607809 -5.9160785  -5.91607715 -5.9160753\n",
      "  -5.91607597 -5.91607602 -5.91607419 -5.91607648 -5.9160765  -5.91607652\n",
      "  -5.91607657 -5.91607783 -5.91607663 -5.91607802 -5.91607865 -5.91607889\n",
      "  -5.91607943 -5.9160797  -5.91607976 -5.9160797  -5.91607972 -5.91607929\n",
      "  -5.91607933 -5.91607801 -5.91607906 -5.9160791  -5.91607939 -5.91607968\n",
      "  -5.91607967 -5.91607862 -5.91607861 -5.91607908 -5.91607763 -5.91607864\n",
      "  -5.91607925 -5.91607946 -5.91607946 -5.9160793  -5.916078   -5.91607875\n",
      "  -5.91607728 -5.91607728 -5.91607654 -5.91607657 -5.91607667 -5.91607509\n",
      "  -5.91607669 -5.91607773 -5.91607746 -5.91607734 -5.91607664 -5.91607782\n",
      "  -5.91607631 -5.91607761 -5.91607847 -5.91607777 -5.91607854 -5.91607774\n",
      "  -5.91607831 -5.9160787  -5.91607783 -5.91607795 -5.91607788 -5.91607855\n",
      "  -5.91607897 -5.91607899 -5.91607891 -5.91607815 -5.91607833 -5.91607834\n",
      "  -5.91607859 -5.91607857 -5.91607782 -5.91607785 -5.91607702 -5.91607922\n",
      "  -5.91607914 -5.91607849 -5.91607964 -5.9160795  -5.91607951 -5.91607951\n",
      "  -5.91607956 -5.9160797  -5.91607969 -5.91607978 -5.91607961 -5.91607955\n",
      "  -5.91607955 -5.91607953 -5.91607909 -5.91607923 -5.91607937 -5.91607935\n",
      "  -5.91607935 -5.91607959 -5.91607974 -5.91607976 -5.91607969 -5.91607958\n",
      "  -5.91607958 -5.91607962 -5.91607952 -5.91607937 -5.91607914 -5.91607887\n",
      "  -5.91607863 -5.91607941 -5.91607975 -5.91607925 -5.9160793  -5.91607925\n",
      "  -5.91607923 -5.91607892 -5.91607799 -5.91607683 -5.916077   -5.91607786\n",
      "  -5.91607674 -5.91607715 -5.9160773  -5.91607808 -5.91607861 -5.91607894\n",
      "  -5.91607897 -5.91607905 -5.9160791  -5.91607955 -5.91607883 -5.91607873\n",
      "  -5.91607856 -5.91607851 -5.91607753 -5.91607769 -5.91607765 -5.91607736\n",
      "  -5.9160787  -5.91607898 -5.91607842 -5.91607885 -5.91607889 -5.91607936\n",
      "  -5.91607952 -5.91607951 -5.91607969 -5.91607974 -5.91607931 -5.91607865\n",
      "  -5.91607888 -5.91607811 -5.91607705 -5.91607713 -5.91607762 -5.91607652\n",
      "  -5.91607692 -5.91607581 -5.91607568 -5.91607698 -5.91607588 -5.91607699\n",
      "  -5.91607795 -5.91607793 -5.91607862 -5.91607912 -5.91607886 -5.9160779\n",
      "  -5.91607754 -5.91607755 -5.91607731 -5.91607808 -5.91607807 -5.91607802\n",
      "  -5.91607867 -5.91607906 -5.91607937 -5.91607954 -5.91607954 -5.91607965\n",
      "  -5.9160796  -5.91607972 -5.91607927 -5.91607897 -5.91607934 -5.91607872\n",
      "  -5.91607884 -5.91607889 -5.9160781  -5.9160783  -5.91607865 -5.91607864\n",
      "  -5.9160791  -5.91607931 -5.91607933 -5.91607854 -5.91607894 -5.91607891\n",
      "  -5.91607921 -5.9160784  -5.91607834 -5.91607889 -5.9160792  -5.91607892\n",
      "  -5.91607917 -5.91607932 -5.9160794  -5.9160795  -5.91607941 -5.91607972\n",
      "  -5.91607976 -5.91607978 -5.91607975 -5.9160794  -5.91607913 -5.91607904\n",
      "  -5.91607933 -5.91607924 -5.91607943 -5.91607896 -5.91607915 -5.91607938\n",
      "  -5.91607954 -5.91607936 -5.91607868 -5.91607903 -5.91607867 -5.916079\n",
      "  -5.91607929 -5.9160789  -5.91607826 -5.91607744 -5.9160781  -5.91607762\n",
      "  -5.91607818 -5.91607825 -5.91607775 -5.91607777 -5.91607696 -5.91607642\n",
      "  -5.91607684 -5.9160775  -5.91607797 -5.91607749 -5.91607806 -5.91607849\n",
      "  -5.91607884 -5.91607921 -5.91607922 -5.91607914 -5.91607933 -5.91607872\n",
      "  -5.91607906 -5.91607927 -5.91607893 -5.91607828 -5.91607831 -5.91607873\n",
      "  -5.91607799 -5.91607757 -5.91607768 -5.91607832 -5.9160775  -5.91607667\n",
      "  -5.91607626 -5.91607548 -5.91607475 -5.91607591 -5.91607681 -5.91607683\n",
      "  -5.91607689 -5.91607688 -5.91607768 -5.91607762 -5.91607755 -5.91607756\n",
      "  -5.9160772  -5.91607791 -5.91607847 -5.9160781  -5.91607814 -5.91607817\n",
      "  -5.91607776 -5.91607828 -5.9160787  -5.9160789  -5.91607924 -5.91607943\n",
      "  -5.91607961 -5.91607972 -5.91607973 -5.91607949 -5.91607926 -5.9160793\n",
      "  -5.91607945 -5.91607932 -5.91607917 -5.91607917 -5.91607917 -5.91607917\n",
      "  -5.91607942 -5.9160796  -5.91607911 -5.91607911 -5.91607911 -5.91607908\n",
      "  -5.9160793  -5.91607946 -5.91607957 -5.91607957 -5.91607957 -5.91607908\n",
      "  -5.91607934 -5.91607934 -5.91607907 -5.91607858 -5.91607882 -5.91607894\n",
      "  -5.91607922 -5.91607945 -5.91607905 -5.91607928 -5.91607932 -5.91607935\n",
      "  -5.91607894 -5.91607896 -5.91607923 -5.91607934 -5.91607882 -5.91607884\n",
      "  -5.91607839 -5.91607872 -5.91607885 -5.91607892 -5.91607913 -5.91607873\n",
      "  -5.91607888 -5.91607832 -5.91607868 -5.91607875 -5.91607908 -5.91607856\n",
      "  -5.91607882 -5.91607885 -5.91607827 -5.91607848 -5.91607851 -5.91607867\n",
      "  -5.91607884 -5.91607886 -5.91607888 -5.91607871 -5.91607901 -5.91607925\n",
      "  -5.91607903 -5.91607904 -5.91607922 -5.91607926 -5.91607902 -5.91607926\n",
      "  -5.91607873 -5.91607826]]\n"
     ]
    }
   ],
   "source": [
    "np.savetxt('prueba.txt', Result_CSPSA, delimiter=',')\n",
    "print(Result_CSPSA)"
   ]
  },
  {
   "cell_type": "code",
   "execution_count": 21,
   "metadata": {},
   "outputs": [
    {
     "name": "stdout",
     "output_type": "stream",
     "text": [
      "[[0.3728822 -0.68551934j]\n",
      " [0.62268731+0.05729399j]]\n"
     ]
    },
    {
     "data": {
      "text/plain": [
       "matrix([[4.1649735+0.j]])"
      ]
     },
     "execution_count": 21,
     "metadata": {},
     "output_type": "execute_result"
    }
   ],
   "source": [
    "print(psi_est)\n",
    "fun(psi_est)"
   ]
  }
 ],
 "metadata": {
  "kernelspec": {
   "display_name": "Python 3",
   "language": "python",
   "name": "python3"
  },
  "language_info": {
   "codemirror_mode": {
    "name": "ipython",
    "version": 3
   },
   "file_extension": ".py",
   "mimetype": "text/x-python",
   "name": "python",
   "nbconvert_exporter": "python",
   "pygments_lexer": "ipython3",
   "version": "3.6.10"
  }
 },
 "nbformat": 4,
 "nbformat_minor": 4
}
