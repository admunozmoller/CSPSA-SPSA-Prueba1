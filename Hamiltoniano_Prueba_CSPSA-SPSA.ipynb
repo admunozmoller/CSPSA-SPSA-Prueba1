{
 "cells": [
  {
   "cell_type": "code",
   "execution_count": 1,
   "metadata": {},
   "outputs": [],
   "source": [
    "import numpy as np\n",
    "import matplotlib.pyplot as plt\n",
    "%matplotlib inline"
   ]
  },
  {
   "cell_type": "code",
   "execution_count": 2,
   "metadata": {},
   "outputs": [],
   "source": [
    "def CSPSA(psi_est, nu_ite, fun_teor, fun,\n",
    "          s=1, t=1/6, a=3, A=1, b = 0.1 ):\n",
    "    \"\"\"\n",
    "    CSPSA\n",
    "    IN\n",
    "        psi_est: dim x n_par matrix. dim is de dimension of each vector, and n_par\n",
    "                the number of guesses in parallel.\n",
    "        nu_ite: int. Number of iterations of CSPSA.\n",
    "        fun_teor: function. It is the known function, for example, the theoretical\n",
    "                 fidelity between the unknown state of the system and the guess.\n",
    "        fun: function. CSPSA uses this function for the optimization.\n",
    "        s, t, a, A, b: parametros CSPSA\n",
    "    OUT\n",
    "        valor_optimo: real. Optimal value of fun finded by CSPSA.\n",
    "    \"\"\"\n",
    "\n",
    "    n_par = int(psi_est.size/psi_est.shape[0])\n",
    "    valor_optimo = np.zeros((n_par, nu_ite))\n",
    "    valor_optimo[:,0] = fun_teor(psi_est)\n",
    "\n",
    "    for k in range(0,nu_ite-1):\n",
    "        valor_optimo[:,k+1], psi_est = (itCSPSA(psi_est/np.linalg.norm(psi_est, axis = 0),\n",
    "                                       k, s, t, a, A, b, fun, fun_teor ))\n",
    "\n",
    "\n",
    "    return valor_optimo"
   ]
  },
  {
   "cell_type": "code",
   "execution_count": 3,
   "metadata": {},
   "outputs": [],
   "source": [
    "def itCSPSA(z_k,  k, s, t, a, A, b, fun, fun_teor):\n",
    "    \"\"\"iteracion de CSPSA\n",
    "    IN\n",
    "        z_k: dim x n_rep. Cada columna es un estimador de dimension dim.\n",
    "        k: iteracion\n",
    "        s, t, a, A, b: parametros CSPSA\n",
    "        fun: funcion a optimizar\n",
    "    OUT\n",
    "        z_k: dim x n_rep. Estimador actualizado\n",
    "        z_value: real. valor de fun en el estimador z_k\n",
    "    \"\"\"\n",
    "    dim = z_k.shape[0]\n",
    "    rep = int(z_k.size/z_k.shape[0])\n",
    "    alpha = a/(k+1+A)**s\n",
    "    beta = b/(k+1)**t\n",
    "    delta = (1j)**(np.random.randint(1,5,(dim, rep))).reshape(2,rep)\n",
    "    z_k_mas = z_k + beta*delta\n",
    "    z_k_menos = z_k - beta*delta\n",
    "    fun_k_mas = fun(z_k_mas)\n",
    "    fun_k_menos = fun(z_k_menos)\n",
    "    grad = np.divide(fun_k_mas - fun_k_menos, 2*beta*delta.conj())\n",
    "    z_k = z_k - alpha*grad\n",
    "    z_value = fun_teor(z_k)\n",
    "    return z_value, z_k"
   ]
  },
  {
   "cell_type": "code",
   "execution_count": 4,
   "metadata": {},
   "outputs": [],
   "source": [
    "def SPSA(psi_est, nu_ite, fun_teor, fun,\n",
    "          s=1, t=1/6, a=3, A=1, b = 0.1 ):\n",
    "    \"\"\"\n",
    "    SPSA\n",
    "    IN\n",
    "        psi_est: dim x n_par matrix. dim is de dimension of each vector, and n_par\n",
    "                the number of guesses in parallel.\n",
    "        nu_ite: int. Number of iterations of SPSA.\n",
    "        fun_teor: function. It is the known function, for example, the theoretical\n",
    "                 fidelity between the unknown state of the system and the guess.\n",
    "        fun: function. SPSA uses this function for the optimization.\n",
    "        s, t, a, A, b: parametros SPSA\n",
    "    OUT\n",
    "        valor_optimo: real. Optimal value of fun finded by SPSA.\n",
    "    \"\"\"\n",
    "\n",
    "    n_par = int(psi_est.size/psi_est.shape[0])\n",
    "    valor_optimo = np.zeros((n_par, nu_ite))\n",
    "    valor_optimo[:,0] = fun_teor(psi_est)\n",
    "\n",
    "    for k in range(0,nu_ite-1):\n",
    "        valor_optimo[:,k+1], psi_est = (itSPSA(psi_est/np.linalg.norm(psi_est, axis = 0),\n",
    "                                       k, s, t, a, A, b, fun, fun_teor ))\n",
    "\n",
    "\n",
    "    return valor_optimo"
   ]
  },
  {
   "cell_type": "code",
   "execution_count": 5,
   "metadata": {},
   "outputs": [],
   "source": [
    "def itSPSA(z_k,  k, s, t, a, A, b, fun, fun_teor):\n",
    "    \"\"\"iteracion de SPSA\n",
    "    IN\n",
    "        z_k: dim x n_rep. Cada columna es un estimador de dimension dim.\n",
    "        k: iteracion\n",
    "        s, t, a, A, b: parametros SPSA\n",
    "        fun: funcion a optimizar\n",
    "    OUT\n",
    "        z_k: dim x n_rep. Estimador actualizado\n",
    "        z_value: real. valor de fun en el estimador z_k\n",
    "    \"\"\"\n",
    "    dim = z_k.shape[0]\n",
    "    rep = int(z_k.size/z_k.shape[0])\n",
    "    alpha = a/(k+1+A)**s\n",
    "    beta = b/(k+1)**t\n",
    "    \n",
    "    #Cambiamos un delta complejo por uno real (+1,-1)\n",
    "    \n",
    "    delta = (-1)**(np.random.randint(1,5,(dim, rep))).reshape(2,rep)\n",
    "    delta_i = (-1)**(np.random.randint(1,5,(dim, rep))).reshape(2,rep)\n",
    "    \n",
    "    #Definimos parte real e imaginaria\n",
    "    \n",
    "    z_k_mas_r = np.real(z_k) + beta*delta\n",
    "    z_k_mas_i = np.imag(z_k) + beta*delta_i\n",
    "    z_k_menos_r = np.real(z_k) - beta*delta\n",
    "    z_k_menos_i = np.imag(z_k) - beta*delta_i\n",
    "    \n",
    "    #Nuevo estado, normalizado\n",
    "    \n",
    "    z_k_mas = z_k_mas_r +1j*z_k_mas_i\n",
    "    z_k_menos = z_k_menos_r+1j*z_k_menos_i\n",
    "    \n",
    "    z_k_mas = z_k_mas/np.linalg.norm(z_k_mas, axis=0)\n",
    "    z_k_menos = z_k_menos/np.linalg.norm(z_k_menos, axis=0)\n",
    "    \n",
    "    fun_k_mas = fun(z_k_mas)\n",
    "    fun_k_menos = fun(z_k_menos)\n",
    "    \n",
    "    #Gradiente real e imaginaria\n",
    "    \n",
    "    grad = np.divide(fun_k_mas - fun_k_menos, 2*beta*delta)\n",
    "    grad_i = np.divide(fun_k_mas - fun_k_menos, 2*beta*delta_i)\n",
    "    \n",
    "    z_k = z_k - alpha*grad - alpha*grad_i\n",
    "    z_k = z_k/np.linalg.norm(z_k, axis=0)\n",
    "    \n",
    "    z_value = fun_teor(z_k)\n",
    "    return z_value, z_k"
   ]
  },
  {
   "cell_type": "code",
   "execution_count": 6,
   "metadata": {},
   "outputs": [],
   "source": [
    "# Definir Estado\n",
    "\n",
    "def estado(dim, n_par):\n",
    "    psi = (np.random.normal(loc=0.0, scale=1.0,\n",
    "           size=(dim, n_par))\n",
    "           + np.random.normal(loc=0.0, scale=1.0,\n",
    "           size=(dim, n_par))*1j)\n",
    "    psi = psi/np.linalg.norm(psi, axis=0)\n",
    "    return psi"
   ]
  },
  {
   "cell_type": "code",
   "execution_count": 7,
   "metadata": {},
   "outputs": [],
   "source": [
    "# Definir Hamiltoniano\n",
    "\n",
    "def H_paul (A,B,C):\n",
    "    pauli_x = np.array((((0, 1), (1, 0))))\n",
    "    pauli_y = np.array((((0, -1j), (1j, 0))))\n",
    "    pauli_z = np.array((((1, 0), (0, -1))))\n",
    "    H_paul = A*pauli_x + B*pauli_y + C*pauli_z\n",
    "    return H_paul"
   ]
  },
  {
   "cell_type": "code",
   "execution_count": 8,
   "metadata": {},
   "outputs": [],
   "source": [
    "# Definir Valor de expectacion\n",
    "\n",
    "def exp_H (psi_est, H):\n",
    "    psi = np.matrix(psi_est)\n",
    "    psi = psi/np.linalg.norm(psi, axis=0)\n",
    "    psi_dagger = psi.getH()\n",
    "    H = np.matrix(H)\n",
    "    exp_H = psi_dagger*H*psi\n",
    "    return exp_H"
   ]
  },
  {
   "cell_type": "code",
   "execution_count": 9,
   "metadata": {},
   "outputs": [],
   "source": [
    "d = 2\n",
    "nu_par = 1\n",
    "NU_ITERACIONES = 800\n",
    "\n",
    "#A = np.sqrt(0.3)\n",
    "#B = np.sqrt(0.2)\n",
    "#C = np.sqrt(0.5)\n",
    "A = 1\n",
    "B = 3\n",
    "C = 5"
   ]
  },
  {
   "cell_type": "code",
   "execution_count": 10,
   "metadata": {},
   "outputs": [],
   "source": [
    "psi_est = estado(d,nu_par)\n"
   ]
  },
  {
   "cell_type": "code",
   "execution_count": 11,
   "metadata": {
    "scrolled": true
   },
   "outputs": [],
   "source": [
    "H = H_paul(A,B,C)\n"
   ]
  },
  {
   "cell_type": "code",
   "execution_count": 12,
   "metadata": {},
   "outputs": [],
   "source": [
    "fun = lambda x : exp_H(x, H)\n"
   ]
  },
  {
   "cell_type": "code",
   "execution_count": 13,
   "metadata": {},
   "outputs": [
    {
     "name": "stdout",
     "output_type": "stream",
     "text": [
      "-5.916079783099616\n"
     ]
    }
   ],
   "source": [
    "# Ground-state Teórico\n",
    "\n",
    "E = A**2 + B**2 + C**2\n",
    "\n",
    "const1 = np.sqrt(1/2) * np.sqrt((A**2+B**2)/(E-C*(np.sqrt(E))))\n",
    "const2 = (C-np.sqrt(E))/(A+1j*B)\n",
    "\n",
    "#psi_teo = const1*np.matrix([[const2], [1]])\n",
    "#fun(psi_teo)\n",
    "\n",
    "Ground_teo = -(np.sqrt(A**2 + B**2 + C**2))\n",
    "print(Ground_teo)"
   ]
  },
  {
   "cell_type": "code",
   "execution_count": 14,
   "metadata": {
    "scrolled": true
   },
   "outputs": [
    {
     "name": "stderr",
     "output_type": "stream",
     "text": [
      "/home/dmunoz/anaconda3/lib/python3.6/site-packages/ipykernel_launcher.py:19: ComplexWarning: Casting complex values to real discards the imaginary part\n",
      "/home/dmunoz/anaconda3/lib/python3.6/site-packages/ipykernel_launcher.py:23: ComplexWarning: Casting complex values to real discards the imaginary part\n"
     ]
    }
   ],
   "source": [
    "Result_CSPSA = CSPSA(psi_est, NU_ITERACIONES, fun, fun)"
   ]
  },
  {
   "cell_type": "code",
   "execution_count": 15,
   "metadata": {},
   "outputs": [
    {
     "name": "stderr",
     "output_type": "stream",
     "text": [
      "/home/dmunoz/anaconda3/lib/python3.6/site-packages/ipykernel_launcher.py:19: ComplexWarning: Casting complex values to real discards the imaginary part\n",
      "/home/dmunoz/anaconda3/lib/python3.6/site-packages/ipykernel_launcher.py:23: ComplexWarning: Casting complex values to real discards the imaginary part\n"
     ]
    }
   ],
   "source": [
    "Result_SPSA = SPSA(psi_est, NU_ITERACIONES, fun, fun)"
   ]
  },
  {
   "cell_type": "code",
   "execution_count": 16,
   "metadata": {
    "scrolled": true
   },
   "outputs": [],
   "source": [
    "error_CSPSA = abs(Result_CSPSA - Ground_teo)\n",
    "error_SPSA = abs(Result_SPSA - Ground_teo)"
   ]
  },
  {
   "cell_type": "code",
   "execution_count": 17,
   "metadata": {},
   "outputs": [
    {
     "data": {
      "text/plain": [
       "[<matplotlib.lines.Line2D at 0x7f9e6831dd30>]"
      ]
     },
     "execution_count": 17,
     "metadata": {},
     "output_type": "execute_result"
    },
    {
     "data": {
      "image/png": "[encoded data removed]",
      "text/plain": [
       "<Figure size 432x288 with 1 Axes>"
      ]
     },
     "metadata": {
      "needs_background": "light"
     },
     "output_type": "display_data"
    }
   ],
   "source": [
    "plt.plot(np.array(error_CSPSA[:]).T)\n",
    "#plt.loglog(np.array(error_CSPSA[:]).T)"
   ]
  },
  {
   "cell_type": "code",
   "execution_count": 18,
   "metadata": {},
   "outputs": [
    {
     "data": {
      "text/plain": [
       "[<matplotlib.lines.Line2D at 0x7f9e682adf28>]"
      ]
     },
     "execution_count": 18,
     "metadata": {},
     "output_type": "execute_result"
    },
    {
     "data": {
      "image/png": "[encoded data removed]",
      "text/plain": [
       "<Figure size 432x288 with 1 Axes>"
      ]
     },
     "metadata": {
      "needs_background": "light"
     },
     "output_type": "display_data"
    }
   ],
   "source": [
    "plt.loglog(np.array(error_SPSA[:]).T)\n",
    "#plt.plot(np.array(error_SPSA[:]).T)"
   ]
  },
  {
   "cell_type": "code",
   "execution_count": 19,
   "metadata": {},
   "outputs": [
    {
     "name": "stdout",
     "output_type": "stream",
     "text": [
      "[[ 1.85121044 -1.05767559 -1.04478919 -1.04478919 -1.04478919 -5.07589094\n",
      "  -5.07589094 -5.01467966 -5.01467966 -0.61625878 -2.99356077 -5.0989612\n",
      "  -0.55974903  4.88408205  5.07694061  4.82178523  4.82178523  4.82178523\n",
      "  -4.58298188  4.40172976  4.31822536 -0.8099495  -0.8099495  -4.7219609\n",
      "  -4.7219609  -0.96719118 -1.86535539  2.19533355  2.19533355  2.19533355\n",
      "   0.14030093 -4.68302338 -5.06189678  0.9142474   0.9142474   0.9142474\n",
      "   0.91332217  0.91240139  0.91148471  0.91148471  0.20667745 -4.40133586\n",
      "  -4.86466083 -4.80965895 -2.13020563 -2.13020563 -1.54822228 -1.6973507\n",
      "  -1.08971772 -1.08971772 -0.32138545 -0.32138545 -0.45577786 -0.45577786\n",
      "  -4.61884874 -0.67787171 -1.43841332 -1.51122359 -1.61052187 -1.75363605\n",
      "  -1.75363605 -2.14335842 -2.75421997 -4.84562956 -3.11036314 -4.43812541\n",
      "  -4.0850708  -4.66609812  0.7285223  -4.4307444  -4.76253464 -2.65414782\n",
      "  -0.46179628 -4.68976296 -4.38939463 -4.38939463  2.36190894  2.36190894\n",
      "   5.09454937  5.09454937  4.97956874  4.74221068  0.24323392  0.24323392\n",
      "  -0.02873241 -4.11735273 -4.64621756 -4.64621756 -2.95404182  4.78887295\n",
      "   4.72858122  2.4179123   2.34953752  4.95543017  5.09522408  5.02680189\n",
      "   4.72545694  4.63623613  4.52289961  4.52289961  0.32845491  0.06384915\n",
      "  -2.98586268 -4.01959068 -4.56278483 -4.56278483 -4.56278483 -3.84959571\n",
      "   0.09786274  4.45818474  4.45818474  4.9358967   5.09901211  3.92910369\n",
      "  -0.51831079 -2.97244573 -2.97244573 -4.48486741 -4.61786716 -4.5477133\n",
      "  -4.58497298 -3.80552638 -3.91375637 -4.15803    -4.15803    -2.29119808\n",
      "  -3.79267103 -4.15751111 -4.12149607 -4.72577749 -4.09552033 -4.08749817\n",
      "  -4.08749817 -3.32335378 -3.32335378 -4.85154008 -4.46321726 -4.60611949\n",
      "  -4.60611949 -4.56073544 -4.73015147 -4.52198083 -4.58540168 -4.34940057\n",
      "  -3.68755146 -4.29713702 -3.6385212  -3.6385212  -3.6385212  -3.77255405\n",
      "  -3.77255405 -3.77255405 -3.77255405 -4.6930357  -4.11112799 -4.13141718\n",
      "  -3.49456995 -1.28443975 -1.4332401   0.01032159  3.01157624  4.14700991\n",
      "   4.91227575  4.91227575  4.58965518  4.58965518  4.58965518  4.69408389\n",
      "   4.69408389  4.69408389  5.09074604  5.09074604  5.09074604  5.09074604\n",
      "   4.82769201  4.82769201  3.77819171  3.77819171 -3.53673738 -4.77102367\n",
      "  -4.77102367 -4.29622855 -4.29622855 -4.54680064 -4.57022932 -4.57022932\n",
      "  -4.39663154 -4.20699957 -4.49127752 -4.24015413 -3.54029744 -3.54029744\n",
      "  -3.54029744 -2.06154455 -3.52296454 -2.05180964 -2.05180964  0.37605291\n",
      "  -3.41837998 -4.49574137 -4.25696622 -4.54623746 -4.54623746 -4.22972182\n",
      "  -4.18753874 -4.1581323  -4.44544346 -4.2453236  -3.64847504 -3.10374381\n",
      "  -4.41243655 -4.31462657 -4.31462657 -4.31462657 -4.31462657 -3.81490571\n",
      "  -3.31810581 -3.45412612 -4.0285108  -3.27378649 -3.41236959 -4.40696277\n",
      "  -4.40696277 -4.31629852 -3.84908431 -2.96372306 -2.31388797 -2.47347947\n",
      "  -4.19902446 -4.1700108  -4.49793751 -4.29266803 -4.23875533 -4.47195442\n",
      "  -4.62077891 -4.42133084 -4.42133084 -4.07638472 -3.6635236  -3.74456198\n",
      "  -3.97644001 -4.00035692 -4.00035692 -4.01907567 -4.08428771 -4.08428771\n",
      "  -4.11153356 -4.11153356 -3.55314676 -4.34287124 -4.51298169 -4.51298169\n",
      "  -4.51298169 -4.26307622 -4.49120244 -4.14767671 -4.14767671 -4.4608079\n",
      "  -4.36808339 -4.36808339 -4.03021302 -3.65011471 -3.72610637 -3.30827106\n",
      "  -3.42108647 -2.44220958 -3.37308187 -4.24884836 -4.24884836 -4.21310597\n",
      "  -4.21310597 -3.86711297 -4.3689634  -4.53391224 -4.34844783 -4.24366866\n",
      "  -4.46836757 -4.53582295 -4.43030175 -4.11380467 -4.4270396  -4.3506362\n",
      "  -4.24753787 -4.21396866 -4.18786601 -4.16089432 -4.14615544 -4.14615544\n",
      "  -3.71783269 -3.71783269 -3.77796667 -3.77796667 -3.82943114 -3.8732347\n",
      "  -3.8732347  -3.8732347  -3.29691375 -3.71550207 -3.05194287 -3.65685798\n",
      "  -4.04420639 -4.08511759 -4.32626819 -4.03005988 -4.2878564  -4.218963\n",
      "  -4.218963   -4.43809526 -4.43809526 -4.43809526 -4.31028978 -4.23342858\n",
      "  -3.89816988 -3.89816988 -4.00486021 -4.00486021 -4.06165222 -3.64019223\n",
      "  -3.64019223 -3.28668227 -3.28668227 -3.68134384 -3.68134384 -3.33763137\n",
      "  -3.81025199 -4.12492522 -4.12492522 -4.12492522 -4.12492522 -4.12770793\n",
      "  -4.12770793 -4.38720688 -4.33119014 -4.33119014 -4.06281107 -3.77288725\n",
      "  -3.77288725 -4.24312689 -4.24312689 -4.42828638 -4.31555916 -4.05747107\n",
      "  -4.05747107 -3.67618987 -4.19534469 -4.19534469 -4.3806058  -4.51434358\n",
      "  -4.35252875 -4.35252875 -4.35252875 -4.35252875 -4.49219514 -4.32388193\n",
      "  -4.08186856 -3.81057165 -4.2358285  -4.2358285  -4.41566479 -4.31321625\n",
      "  -4.06395291 -4.27992206 -4.22472331 -4.20289157 -3.9158228  -3.9158228\n",
      "  -4.17188347 -4.38275779 -4.17772086 -4.38429127 -4.47865175 -4.47865175\n",
      "  -4.41155974 -4.52997098 -4.30494294 -4.44986047 -4.34172625 -4.26795594\n",
      "  -4.26795594 -4.26795594 -4.42084992 -4.42084992 -4.42084992 -4.42084992\n",
      "  -4.24177542 -4.21852235 -4.38223715 -4.29763367 -4.44044252 -4.2718503\n",
      "  -4.0398644  -4.07282648 -4.32275547 -4.11056451 -4.1077675  -3.8669488\n",
      "  -4.22244835 -4.22244835 -3.99192613 -4.0052408  -3.6717848  -3.72006943\n",
      "  -4.01149588 -3.68366972 -3.84791692 -3.59155318 -3.64615286 -3.82354963\n",
      "  -4.19146399 -4.35439664 -4.45409449 -4.39778426 -4.3511828  -4.31238606\n",
      "  -4.31238606 -4.09760218 -3.81547292 -4.17998861 -3.95804376 -3.95804376\n",
      "  -3.72047904 -4.00119487 -3.76825205 -3.80525237 -3.91785299 -3.91785299\n",
      "  -4.22473409 -4.22473409 -3.99883033 -4.01048861 -4.02071738 -4.02071738\n",
      "  -4.02071738 -4.05682352 -4.05682352 -4.08081067 -4.30288305 -4.42015505\n",
      "  -4.37285383 -4.45771481 -4.40462326 -4.47487563 -4.51407814 -4.5363421\n",
      "  -4.54913566 -4.55654408 -4.37149999 -4.37149999 -4.17669958 -4.33101688\n",
      "  -4.43239201 -4.48903178 -4.57377944 -4.57377944 -4.47544738 -4.47544738\n",
      "  -4.29010035 -4.41652767 -4.27111212 -4.27111212 -4.39666571 -4.46729031\n",
      "  -4.41531373 -4.37136226 -4.21403923 -4.18957775 -4.17749012 -3.97949332\n",
      "  -4.02574637 -3.75893289 -3.75893289 -3.40664896 -2.94493328 -3.64783043\n",
      "  -3.80046809 -3.80046809 -3.80046809 -3.90238188 -3.60211933 -3.64782881\n",
      "  -3.26880896 -3.26880896 -3.82426055 -3.60841748 -3.60841748 -3.88560211\n",
      "  -3.95896301 -4.15207252 -4.14515793 -4.14515793 -4.14515793 -4.14100968\n",
      "  -3.92485567 -3.72101923 -3.50182534 -3.50182534 -3.26421359 -3.80570357\n",
      "  -4.11808419 -4.11529142 -4.11529142 -4.11950517 -4.11950517 -4.12252737\n",
      "  -4.29844035 -4.40202914 -4.40202914 -4.40202914 -4.46406403 -4.38192641\n",
      "  -4.38192641 -4.38192641 -4.47852988 -4.5565485  -4.46726613 -4.46726613\n",
      "  -4.54698877 -4.48953368 -4.38363825 -4.45140109 -4.53354636 -4.54528495\n",
      "  -4.45474744 -4.34088358 -4.17390879 -4.16509558 -4.155968   -4.31117481\n",
      "  -4.41891129 -4.50587621 -4.52725587 -4.43640289 -4.51970454 -4.4677363\n",
      "  -4.4677363  -4.36021435 -4.45718649 -4.3001764  -4.39687041 -4.36163715\n",
      "  -4.4349366  -4.3636558  -4.3636558  -4.43580774 -4.48150358 -4.37973561\n",
      "  -4.47154691 -4.47154691 -4.36795515 -4.36795515 -4.36795515 -4.21079691\n",
      "  -4.33374185 -4.30715844 -4.14789674 -4.14347112 -4.14347112 -4.14347112\n",
      "  -4.29500736 -4.14950196 -3.98386368 -3.98386368 -3.75806488 -4.05403092\n",
      "  -3.88426789 -4.13145022 -4.13112451 -4.13112451 -3.94638559 -3.94638559\n",
      "  -3.77204637 -3.77204637 -3.58689262 -3.38843726 -3.01881244 -3.01881244\n",
      "  -3.32196704 -2.93891907 -3.32265836 -3.37393397 -3.1605909  -3.1605909\n",
      "  -3.1605909  -3.1605909  -3.1605909  -2.74728106 -3.1677625  -3.49736326\n",
      "  -3.2970918  -3.2970918  -3.2970918  -3.516304   -3.516304   -3.516304\n",
      "  -3.67448068 -3.89436486 -4.12554645 -4.25620239 -4.358491   -4.23917859\n",
      "  -4.23917859 -4.22495463 -4.33735225 -4.4288406  -4.39382055 -4.39382055\n",
      "  -4.36292799 -4.44950969 -4.48594844 -4.48594844 -4.48594844 -4.55175586\n",
      "  -4.41897873 -4.38560791 -4.44229521 -4.48061288 -4.48061288 -4.48061288\n",
      "  -4.44048068 -4.4050107  -4.4050107  -4.4050107  -4.26803493 -4.23833023\n",
      "  -4.34238322 -4.34238322 -4.22541367 -4.20473945 -4.05724293 -4.06061694\n",
      "  -4.22320698 -4.3311234  -4.3311234  -4.3311234  -4.30831871 -4.17006507\n",
      "  -4.02572388 -4.02572388 -4.19801812 -4.3128609  -4.3128609  -4.39018162\n",
      "  -4.28680344 -4.25430195 -4.22830335 -4.21615645 -4.19797432 -4.18356863\n",
      "  -4.29518558 -4.26135735 -4.1319218  -3.97443888 -3.98437504 -3.98437504\n",
      "  -3.83492164 -3.83492164 -3.85482946 -3.85482946 -4.02301384 -3.87671703\n",
      "  -3.93298161 -3.73497543 -3.760986   -3.94524339 -3.95720127 -3.95720127\n",
      "  -3.96823976 -3.96823976 -3.96823976 -4.15123852 -4.0135522  -4.1507863\n",
      "  -4.00293598 -4.00293598 -4.0299066  -4.0299066  -4.16342578 -4.02775074\n",
      "  -4.18952954 -4.2956716  -4.38453283 -4.45944662 -4.39929979 -4.44625726\n",
      "  -4.44625726 -4.44625726 -4.44625726 -4.41378279 -4.41378279 -4.36146253\n",
      "  -4.33762079 -4.29828408 -4.29828408 -4.29828408 -4.2806271  -4.25166972\n",
      "  -4.13001078 -4.24338622 -4.33508537 -4.29663883 -4.29663883 -4.37217961\n",
      "  -4.37217961 -4.42555768 -4.49225354 -4.49225354 -4.42940946 -4.39954594\n",
      "  -4.30882739 -4.18544001 -4.29275787 -4.29275787 -4.26234077 -4.26234077\n",
      "  -4.23741463 -4.32871485 -4.32871485 -4.32871485 -4.20769824 -4.30717229\n",
      "  -4.20074725 -4.0751186  -4.19379143 -4.06610725 -4.06846971 -4.207973\n",
      "  -4.30515276 -4.38747417 -4.34207997 -4.40194933 -4.37566127 -4.44726436\n",
      "  -4.44726436 -4.47802786 -4.47802786 -4.47802786 -4.41975849 -4.36998917\n",
      "  -4.36998917 -4.36998917 -4.27832282 -4.36320633 -4.43563515 -4.49778905\n",
      "  -4.55141352 -4.51140437 -4.56308848 -4.52205225 -4.53288153 -4.53288153\n",
      "  -4.53288153 -4.54094359 -4.54094359 -4.54697341 -4.55150032 -4.44482401\n",
      "  -4.44482401 -4.39278792 -4.30758138 -4.38644331 -4.38644331 -4.36265277\n",
      "  -4.36265277 -4.41437769 -4.47787549 -4.36992236 -4.36992236 -4.25835635\n",
      "  -4.23583278 -4.32124954 -4.22504876 -4.10870053 -4.10870053 -4.11245774\n",
      "  -4.11245774 -4.23099127 -4.31922306 -4.39481161 -4.43718884 -4.32978898\n",
      "  -4.40364658 -4.32308139 -4.22884763 -4.11831301 -3.9883741  -3.9883741\n",
      "  -4.13928769 -4.24876349 -4.24876349 -4.24876349 -4.2284268  -4.11521724\n",
      "  -4.1139655  -3.98491484 -4.10747856 -4.22443305 -4.22443305 -4.11530709\n",
      "  -4.22972895 -4.31359021]]\n"
     ]
    }
   ],
   "source": [
    "np.savetxt('prueba.txt', Result_SPSA, delimiter=',')\n",
    "print(Result_SPSA)"
   ]
  },
  {
   "cell_type": "code",
   "execution_count": 20,
   "metadata": {},
   "outputs": [
    {
     "name": "stdout",
     "output_type": "stream",
     "text": [
      "[[ 1.85121044 -3.13134389  0.79268325  1.87711387 -1.44170125 -0.05144307\n",
      "  -4.7372697  -4.73738666  5.24591264  4.36231526  1.34557821  1.11753874\n",
      "  -2.76311944 -2.10059487  1.09920947 -4.86521269 -1.28888584 -4.93727169\n",
      "  -4.69335911 -1.08399462 -3.70562461 -3.71897505 -3.79826949 -2.11862004\n",
      "  -2.40489619 -2.40564674 -2.89806606 -2.07164938 -3.59439381 -1.30772759\n",
      "  -1.96166855 -2.24789034 -3.16589438 -1.70246777 -1.84827505 -3.91703315\n",
      "  -4.92041361 -5.12295567 -4.73371531 -5.07950301 -5.02687337 -5.06843249\n",
      "  -5.06954978 -5.07392232 -5.76750328 -5.84131514 -5.82504799 -5.81409231\n",
      "  -5.85074822 -5.8304624  -5.83080163 -5.88083029 -5.90688965 -5.91351541\n",
      "  -5.91565602 -5.91597306 -5.91596571 -5.91596442 -5.91596407 -5.91587339\n",
      "  -5.91577362 -5.91580476 -5.91601196 -5.91603117 -5.91593522 -5.91600865\n",
      "  -5.91605306 -5.91603081 -5.91598847 -5.91600251 -5.91597312 -5.91586457\n",
      "  -5.91599184 -5.91606707 -5.91601627 -5.9160356  -5.91606201 -5.91606947\n",
      "  -5.91605717 -5.91605492 -5.91606187 -5.91599767 -5.91598379 -5.91600529\n",
      "  -5.91605643 -5.91603741 -5.91601657 -5.9160414  -5.91603158 -5.91602735\n",
      "  -5.91603671 -5.9160477  -5.91603409 -5.91601341 -5.91601856 -5.91603345\n",
      "  -5.91599874 -5.91601668 -5.91605023 -5.91603891 -5.91604054 -5.91604053\n",
      "  -5.91605883 -5.91606471 -5.91606691 -5.91606096 -5.91606158 -5.91606415\n",
      "  -5.91604796 -5.91607397 -5.91607934 -5.91607122 -5.91606916 -5.916068\n",
      "  -5.91606368 -5.91606241 -5.91606211 -5.91607531 -5.91606925 -5.91605672\n",
      "  -5.91605858 -5.91605934 -5.916074   -5.9160564  -5.91605357 -5.91605147\n",
      "  -5.91604726 -5.91604811 -5.91604837 -5.9160647  -5.91605059 -5.91604725\n",
      "  -5.91604643 -5.9160588  -5.91605476 -5.91605396 -5.91606178 -5.91606055\n",
      "  -5.9160509  -5.91605184 -5.91604748 -5.91606504 -5.91606344 -5.91607511\n",
      "  -5.91607003 -5.91606893 -5.91606675 -5.91606635 -5.91607065 -5.91607914\n",
      "  -5.91607513 -5.91607615 -5.91607481 -5.91607045 -5.91607719 -5.91606534\n",
      "  -5.91606203 -5.91606253 -5.91606256 -5.91606552 -5.91606554 -5.91606895\n",
      "  -5.91606107 -5.91606658 -5.91606264 -5.91606024 -5.91605895 -5.91606443\n",
      "  -5.91606548 -5.91607855 -5.91607961 -5.91607676 -5.91607918 -5.91607898\n",
      "  -5.9160727  -5.91607163 -5.91606496 -5.91607377 -5.91607214 -5.91607069\n",
      "  -5.91606959 -5.91606879 -5.91607189 -5.91607035 -5.91606639 -5.91605987\n",
      "  -5.91605936 -5.91607378 -5.91607273 -5.91607431 -5.91607339 -5.91606806\n",
      "  -5.91606852 -5.91606115 -5.91605718 -5.91606388 -5.91606103 -5.91607141\n",
      "  -5.91607678 -5.91607603 -5.91606912 -5.91607967 -5.91607409 -5.91607113\n",
      "  -5.91607337 -5.91606757 -5.91606997 -5.91607552 -5.91607538 -5.9160779\n",
      "  -5.91607699 -5.91607423 -5.91607719 -5.91607848 -5.91607863 -5.91607524\n",
      "  -5.9160797  -5.9160759  -5.9160744  -5.91607601 -5.91607835 -5.91607953\n",
      "  -5.916079   -5.91607971 -5.91607791 -5.91607929 -5.91607675 -5.91607796\n",
      "  -5.91607812 -5.91607965 -5.91607925 -5.91607768 -5.91607303 -5.91607099\n",
      "  -5.91607367 -5.91607388 -5.91607232 -5.91607122 -5.91607255 -5.91606962\n",
      "  -5.91606842 -5.91607505 -5.9160767  -5.91607459 -5.91607262 -5.91607296\n",
      "  -5.91607445 -5.91607885 -5.91607684 -5.91607583 -5.91607519 -5.91607501\n",
      "  -5.9160748  -5.91607187 -5.91607515 -5.9160734  -5.91607202 -5.91607177\n",
      "  -5.91607481 -5.91607796 -5.9160792  -5.91607972 -5.91607975 -5.91607913\n",
      "  -5.91607692 -5.91607364 -5.91607699 -5.91607664 -5.91607938 -5.91607605\n",
      "  -5.91607224 -5.91607078 -5.9160693  -5.91606933 -5.91607698 -5.91607586\n",
      "  -5.91607556 -5.91607293 -5.91607328 -5.91607374 -5.9160789  -5.91607946\n",
      "  -5.91607958 -5.91607976 -5.91607753 -5.91607672 -5.91607322 -5.9160757\n",
      "  -5.91607736 -5.91607716 -5.91607539 -5.91607717 -5.91607763 -5.91607896\n",
      "  -5.91607902 -5.91607831 -5.91607513 -5.91607842 -5.91607696 -5.91607558\n",
      "  -5.91607267 -5.91607227 -5.91607201 -5.91606895 -5.91606858 -5.9160683\n",
      "  -5.91607121 -5.91607348 -5.91607248 -5.91607388 -5.91607632 -5.91607497\n",
      "  -5.91607372 -5.91607397 -5.91607331 -5.91607045 -5.9160714  -5.91607213\n",
      "  -5.91607407 -5.91607288 -5.9160703  -5.91607093 -5.91607163 -5.91607254\n",
      "  -5.91607202 -5.91607149 -5.91607001 -5.91607796 -5.91607527 -5.91607529\n",
      "  -5.91607462 -5.91607406 -5.91607488 -5.91607514 -5.91607706 -5.91607893\n",
      "  -5.9160781  -5.91607734 -5.91607541 -5.91607496 -5.91607381 -5.9160754\n",
      "  -5.91607843 -5.91607769 -5.91607793 -5.91607964 -5.91607957 -5.91607952\n",
      "  -5.91607955 -5.916079   -5.91607959 -5.9160795  -5.91607943 -5.91607922\n",
      "  -5.91607942 -5.9160796  -5.91607911 -5.91607834 -5.91607883 -5.91607811\n",
      "  -5.91607907 -5.91607824 -5.91607797 -5.91607582 -5.91607654 -5.91607653\n",
      "  -5.91607653 -5.9160778  -5.91607859 -5.91607792 -5.91607856 -5.91607806\n",
      "  -5.91607691 -5.91607806 -5.91607838 -5.91607825 -5.91607892 -5.91607927\n",
      "  -5.91607939 -5.91607899 -5.91607872 -5.91607788 -5.91607694 -5.91607495\n",
      "  -5.91607411 -5.91607536 -5.91607622 -5.91607611 -5.9160742  -5.91607328\n",
      "  -5.91607559 -5.91607577 -5.91607511 -5.91607507 -5.91607545 -5.91607369\n",
      "  -5.91607335 -5.91607393 -5.91607327 -5.91607188 -5.91607449 -5.9160764\n",
      "  -5.91607554 -5.91607596 -5.91607521 -5.91607407 -5.91607274 -5.9160712\n",
      "  -5.91607282 -5.91607306 -5.91607364 -5.91607331 -5.9160752  -5.91607544\n",
      "  -5.91607786 -5.91607705 -5.91607792 -5.91607832 -5.91607891 -5.91607919\n",
      "  -5.91607956 -5.9160796  -5.91607976 -5.91607949 -5.91607903 -5.91607903\n",
      "  -5.9160783  -5.91607896 -5.91607843 -5.91607796 -5.9160772  -5.91607895\n",
      "  -5.91607822 -5.91607801 -5.91607671 -5.91607727 -5.91607807 -5.91607789\n",
      "  -5.9160784  -5.91607897 -5.91607886 -5.91607739 -5.9160774  -5.91607583\n",
      "  -5.91607595 -5.91607723 -5.91607816 -5.91607789 -5.91607953 -5.91607936\n",
      "  -5.91607967 -5.91607962 -5.91607922 -5.91607875 -5.9160786  -5.91607815\n",
      "  -5.91607944 -5.91607891 -5.91607845 -5.91607778 -5.91607765 -5.91607722\n",
      "  -5.91607734 -5.91607716 -5.91607857 -5.91607812 -5.91607746 -5.91607623\n",
      "  -5.91607708 -5.91607664 -5.91607621 -5.91607687 -5.91607679 -5.91607756\n",
      "  -5.91607819 -5.91607687 -5.91607694 -5.9160771  -5.91607717 -5.9160765\n",
      "  -5.91607897 -5.91607975 -5.91607969 -5.9160797  -5.91607974 -5.9160796\n",
      "  -5.9160796  -5.91607912 -5.91607889 -5.91607794 -5.91607813 -5.91607706\n",
      "  -5.91607789 -5.91607759 -5.91607651 -5.91607924 -5.91607935 -5.91607902\n",
      "  -5.91607882 -5.9160783  -5.91607933 -5.91607915 -5.91607895 -5.91607932\n",
      "  -5.91607915 -5.91607938 -5.91607977 -5.9160797  -5.91607963 -5.91607931\n",
      "  -5.91607976 -5.9160797  -5.91607952 -5.91607888 -5.91607799 -5.91607849\n",
      "  -5.91607756 -5.91607718 -5.91607685 -5.91607657 -5.91607706 -5.91607741\n",
      "  -5.91607714 -5.91607616 -5.91607521 -5.91607548 -5.91607667 -5.91607666\n",
      "  -5.91607881 -5.91607859 -5.91607818 -5.91607768 -5.91607743 -5.91607657\n",
      "  -5.91607564 -5.91607758 -5.91607666 -5.91607573 -5.91607605 -5.91607516\n",
      "  -5.91607479 -5.91607459 -5.91607441 -5.91607617 -5.91607629 -5.91607726\n",
      "  -5.91607737 -5.91607794 -5.91607705 -5.91607688 -5.91607599 -5.9160787\n",
      "  -5.91607788 -5.91607851 -5.91607853 -5.91607822 -5.91607799 -5.91607839\n",
      "  -5.91607816 -5.91607837 -5.9160793  -5.91607928 -5.91607922 -5.91607966\n",
      "  -5.91607957 -5.91607924 -5.91607854 -5.91607823 -5.91607852 -5.91607766\n",
      "  -5.91607668 -5.91607781 -5.91607811 -5.91607787 -5.91607743 -5.91607745\n",
      "  -5.91607742 -5.91607694 -5.91607689 -5.91607621 -5.91607625 -5.91607702\n",
      "  -5.91607854 -5.91607838 -5.91607794 -5.9160775  -5.91607706 -5.91607665\n",
      "  -5.91607648 -5.9160761  -5.91607795 -5.9160779  -5.91607902 -5.91607869\n",
      "  -5.91607903 -5.91607891 -5.91607849 -5.91607861 -5.91607813 -5.91607771\n",
      "  -5.91607823 -5.91607836 -5.91607786 -5.91607745 -5.91607726 -5.91607814\n",
      "  -5.91607846 -5.91607887 -5.9160783  -5.91607851 -5.91607886 -5.91607898\n",
      "  -5.91607895 -5.91607888 -5.91607885 -5.91607845 -5.91607812 -5.91607858\n",
      "  -5.91607818 -5.91607751 -5.91607799 -5.91607718 -5.91607632 -5.91607743\n",
      "  -5.9160772  -5.91607638 -5.91607711 -5.91607696 -5.91607664 -5.91607762\n",
      "  -5.91607799 -5.91607761 -5.91607816 -5.91607754 -5.91607777 -5.91607705\n",
      "  -5.91607756 -5.91607806 -5.91607807 -5.9160779  -5.91607749 -5.91607804\n",
      "  -5.91607783 -5.91607783 -5.91607769 -5.91607757 -5.91607716 -5.91607776\n",
      "  -5.91607776 -5.91607746 -5.91607735 -5.91607732 -5.91607703 -5.91607692\n",
      "  -5.9160768  -5.91607648 -5.91607655 -5.91607625 -5.91607637 -5.91607647\n",
      "  -5.91607642 -5.91607712 -5.916077   -5.91607687 -5.9160763  -5.91607786\n",
      "  -5.9160779  -5.91607891 -5.91607858 -5.91607856 -5.91607842 -5.91607845\n",
      "  -5.91607823 -5.91607813 -5.9160781  -5.91607854 -5.91607833 -5.91607799\n",
      "  -5.91607785 -5.91607775 -5.91607763 -5.91607815 -5.91607815 -5.916078\n",
      "  -5.91607765 -5.91607813 -5.91607822 -5.91607825 -5.91607865 -5.91607845\n",
      "  -5.91607806 -5.91607846 -5.91607824 -5.91607805 -5.91607787 -5.91607778\n",
      "  -5.9160777  -5.91607778 -5.9160776  -5.91607863 -5.91607836 -5.91607915\n",
      "  -5.91607893 -5.91607885 -5.91607944 -5.91607936 -5.91607951 -5.91607926\n",
      "  -5.91607943 -5.91607903 -5.91607874 -5.91607815 -5.91607784 -5.91607717\n",
      "  -5.91607738 -5.91607741 -5.91607743 -5.9160779  -5.91607827 -5.91607762\n",
      "  -5.91607768 -5.91607869 -5.91607919 -5.91607869 -5.91607881 -5.91607873\n",
      "  -5.91607901 -5.91607842 -5.91607837 -5.91607908 -5.91607921 -5.91607937\n",
      "  -5.91607949 -5.91607932 -5.91607947 -5.91607957 -5.91607913 -5.91607956\n",
      "  -5.91607949 -5.91607928 -5.91607881 -5.91607823 -5.91607819 -5.91607851\n",
      "  -5.91607858 -5.91607867 -5.91607872 -5.91607855 -5.91607922 -5.91607899\n",
      "  -5.91607881 -5.91607904 -5.91607885 -5.91607856 -5.9160786  -5.9160789\n",
      "  -5.91607933 -5.91607897 -5.91607847 -5.91607828 -5.916078   -5.91607781\n",
      "  -5.91607816 -5.9160783  -5.91607827 -5.91607864 -5.9160787  -5.91607873\n",
      "  -5.91607816 -5.91607793 -5.91607783 -5.91607724 -5.91607699 -5.91607709\n",
      "  -5.91607713 -5.91607716 -5.91607709 -5.91607698 -5.91607827 -5.91607862\n",
      "  -5.91607806 -5.91607888 -5.91607889 -5.91607835 -5.91607778 -5.91607785\n",
      "  -5.91607765 -5.91607709 -5.91607827 -5.91607804 -5.91607747 -5.91607691\n",
      "  -5.91607741 -5.91607725 -5.91607808 -5.91607852 -5.91607863 -5.9160787\n",
      "  -5.91607868 -5.91607862]]\n"
     ]
    }
   ],
   "source": [
    "np.savetxt('prueba.txt', Result_CSPSA, delimiter=',')\n",
    "print(Result_CSPSA)"
   ]
  },
  {
   "cell_type": "code",
   "execution_count": 21,
   "metadata": {},
   "outputs": [
    {
     "name": "stdout",
     "output_type": "stream",
     "text": [
      "[[0.00445055-0.72671389j]\n",
      " [0.13968375-0.67257384j]]\n"
     ]
    },
    {
     "data": {
      "text/plain": [
       "matrix([[1.85121044-3.33066907e-16j]])"
      ]
     },
     "execution_count": 21,
     "metadata": {},
     "output_type": "execute_result"
    }
   ],
   "source": [
    "print(psi_est)\n",
    "fun(psi_est)"
   ]
  }
 ],
 "metadata": {
  "kernelspec": {
   "display_name": "Python 3",
   "language": "python",
   "name": "python3"
  },
  "language_info": {
   "codemirror_mode": {
    "name": "ipython",
    "version": 3
   },
   "file_extension": ".py",
   "mimetype": "text/x-python",
   "name": "python",
   "nbconvert_exporter": "python",
   "pygments_lexer": "ipython3",
   "version": "3.6.10"
  }
 },
 "nbformat": 4,
 "nbformat_minor": 4
}
